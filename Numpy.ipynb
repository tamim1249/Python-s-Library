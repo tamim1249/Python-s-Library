{
 "cells": [
  {
   "cell_type": "code",
   "execution_count": 1,
   "id": "c7364504-5d39-4d79-8c5b-681230c4b389",
   "metadata": {},
   "outputs": [
    {
     "name": "stdout",
     "output_type": "stream",
     "text": [
      "Tamim Mahmud\n"
     ]
    }
   ],
   "source": [
    "print(\"Tamim Mahmud\")"
   ]
  },
  {
   "cell_type": "code",
   "execution_count": 3,
   "id": "f754d330-5c70-4310-b61a-aeb310d2e385",
   "metadata": {},
   "outputs": [
    {
     "name": "stdin",
     "output_type": "stream",
     "text": [
      "Name:  Kulsom akter Sinthia\n"
     ]
    },
    {
     "name": "stdout",
     "output_type": "stream",
     "text": [
      "My name is  Kulsom akter Sinthia\n"
     ]
    }
   ],
   "source": [
    "n=input(\"Name: \")\n",
    "print(\"My name is \",n)"
   ]
  },
  {
   "cell_type": "code",
   "execution_count": 4,
   "id": "7d5ac19c-bd2e-470f-aa80-3e7e76d4f4da",
   "metadata": {},
   "outputs": [],
   "source": [
    "import numpy as np\n"
   ]
  },
  {
   "cell_type": "code",
   "execution_count": 11,
   "id": "239ae136-4324-4431-bf67-939399599d85",
   "metadata": {},
   "outputs": [],
   "source": [
    "a=np.array([1,2,3]) #1-D array or vector \n"
   ]
  },
  {
   "cell_type": "code",
   "execution_count": 7,
   "id": "f3b874b1-04aa-4923-930c-44bab50e21b3",
   "metadata": {},
   "outputs": [
    {
     "data": {
      "text/plain": [
       "array([1, 2, 3])"
      ]
     },
     "execution_count": 7,
     "metadata": {},
     "output_type": "execute_result"
    }
   ],
   "source": [
    "a"
   ]
  },
  {
   "cell_type": "code",
   "execution_count": 8,
   "id": "e3f199f3-caa2-429c-b8da-74add6279171",
   "metadata": {},
   "outputs": [
    {
     "data": {
      "text/plain": [
       "numpy.ndarray"
      ]
     },
     "execution_count": 8,
     "metadata": {},
     "output_type": "execute_result"
    }
   ],
   "source": [
    "type(a)"
   ]
  },
  {
   "cell_type": "code",
   "execution_count": 9,
   "id": "2563cde5-b86f-45eb-b2ec-0911412bdc9b",
   "metadata": {},
   "outputs": [
    {
     "data": {
      "text/plain": [
       "(3,)"
      ]
     },
     "execution_count": 9,
     "metadata": {},
     "output_type": "execute_result"
    }
   ],
   "source": [
    "a.shape"
   ]
  },
  {
   "cell_type": "code",
   "execution_count": 10,
   "id": "923e6c36-baf1-47dd-8b40-105170bb8894",
   "metadata": {},
   "outputs": [
    {
     "data": {
      "text/plain": [
       "1"
      ]
     },
     "execution_count": 10,
     "metadata": {},
     "output_type": "execute_result"
    }
   ],
   "source": [
    "a.ndim\n"
   ]
  },
  {
   "cell_type": "code",
   "execution_count": 12,
   "id": "167da32c-ecf1-4f88-90a3-7adbffcd71bf",
   "metadata": {},
   "outputs": [],
   "source": [
    "b=np.array([[1.0,2,3],[4,5,6]])"
   ]
  },
  {
   "cell_type": "code",
   "execution_count": 13,
   "id": "f26f2a76-4a76-4d0b-825b-f535bd410d19",
   "metadata": {},
   "outputs": [
    {
     "data": {
      "text/plain": [
       "array([[1, 2, 3],\n",
       "       [4, 5, 6]])"
      ]
     },
     "execution_count": 13,
     "metadata": {},
     "output_type": "execute_result"
    }
   ],
   "source": [
    "b"
   ]
  },
  {
   "cell_type": "code",
   "execution_count": 14,
   "id": "5732f308-1b03-436f-a4a7-baea8a6b84be",
   "metadata": {},
   "outputs": [
    {
     "data": {
      "text/plain": [
       "numpy.ndarray"
      ]
     },
     "execution_count": 14,
     "metadata": {},
     "output_type": "execute_result"
    }
   ],
   "source": [
    "type(b)"
   ]
  },
  {
   "cell_type": "code",
   "execution_count": 15,
   "id": "9c29547e-cbcb-421d-863f-37f7120e7d09",
   "metadata": {},
   "outputs": [
    {
     "data": {
      "text/plain": [
       "(2, 3)"
      ]
     },
     "execution_count": 15,
     "metadata": {},
     "output_type": "execute_result"
    }
   ],
   "source": [
    "b.shape"
   ]
  },
  {
   "cell_type": "code",
   "execution_count": 18,
   "id": "6aac0982-5b60-420c-907f-9c2a24470d9c",
   "metadata": {},
   "outputs": [],
   "source": [
    "r=np.array([[[1.0,2.3,3],[4,5,6],[7,8,9]]])"
   ]
  },
  {
   "cell_type": "code",
   "execution_count": 21,
   "id": "360603a4-5c8d-4510-b8d0-747bb38f1507",
   "metadata": {},
   "outputs": [
    {
     "data": {
      "text/plain": [
       "array([[[1, 2, 3],\n",
       "        [4, 5, 6],\n",
       "        [7, 8, 9]]])"
      ]
     },
     "execution_count": 21,
     "metadata": {},
     "output_type": "execute_result"
    }
   ],
   "source": [
    "r"
   ]
  },
  {
   "cell_type": "code",
   "execution_count": 23,
   "id": "fe95a9dc-168f-4254-9fcb-e785dd7d09ef",
   "metadata": {},
   "outputs": [
    {
     "data": {
      "text/plain": [
       "numpy.ndarray"
      ]
     },
     "execution_count": 23,
     "metadata": {},
     "output_type": "execute_result"
    }
   ],
   "source": [
    "type(r)"
   ]
  },
  {
   "cell_type": "code",
   "execution_count": 24,
   "id": "85d2012a-a50b-406f-89d2-565327bb5029",
   "metadata": {},
   "outputs": [
    {
     "data": {
      "text/plain": [
       "(1, 3, 3)"
      ]
     },
     "execution_count": 24,
     "metadata": {},
     "output_type": "execute_result"
    }
   ],
   "source": [
    "r.shape"
   ]
  },
  {
   "cell_type": "code",
   "execution_count": 25,
   "id": "30bc491f-ce59-4af9-861c-4ebef2c49602",
   "metadata": {},
   "outputs": [
    {
     "data": {
      "text/plain": [
       "3"
      ]
     },
     "execution_count": 25,
     "metadata": {},
     "output_type": "execute_result"
    }
   ],
   "source": [
    "r.ndim"
   ]
  },
  {
   "cell_type": "code",
   "execution_count": 26,
   "id": "f57f0296-edb5-4a63-acdc-795cb8d2e95b",
   "metadata": {},
   "outputs": [
    {
     "data": {
      "text/plain": [
       "dtype('int32')"
      ]
     },
     "execution_count": 26,
     "metadata": {},
     "output_type": "execute_result"
    }
   ],
   "source": [
    "a.dtype"
   ]
  },
  {
   "cell_type": "code",
   "execution_count": 28,
   "id": "a353821c-0bf0-4722-a4da-58e240944099",
   "metadata": {},
   "outputs": [
    {
     "data": {
      "text/plain": [
       "dtype('int32')"
      ]
     },
     "execution_count": 28,
     "metadata": {},
     "output_type": "execute_result"
    }
   ],
   "source": [
    "r.dtype"
   ]
  },
  {
   "cell_type": "code",
   "execution_count": 29,
   "id": "f7235aa3-66bb-43a9-81ec-da458e1ce62e",
   "metadata": {},
   "outputs": [
    {
     "data": {
      "text/plain": [
       "dtype('int32')"
      ]
     },
     "execution_count": 29,
     "metadata": {},
     "output_type": "execute_result"
    }
   ],
   "source": [
    "r.dtype"
   ]
  },
  {
   "cell_type": "code",
   "execution_count": 30,
   "id": "7700b2e1-beb2-4e3d-868f-51914cd9b9ca",
   "metadata": {},
   "outputs": [
    {
     "data": {
      "text/plain": [
       "dtype('int32')"
      ]
     },
     "execution_count": 30,
     "metadata": {},
     "output_type": "execute_result"
    }
   ],
   "source": [
    "r.dtype"
   ]
  },
  {
   "cell_type": "code",
   "execution_count": 31,
   "id": "1337ca67-202e-41a7-bb00-8ec872b31783",
   "metadata": {},
   "outputs": [
    {
     "data": {
      "text/plain": [
       "dtype('int32')"
      ]
     },
     "execution_count": 31,
     "metadata": {},
     "output_type": "execute_result"
    }
   ],
   "source": [
    "b.dtype"
   ]
  },
  {
   "cell_type": "code",
   "execution_count": 32,
   "id": "a476c73b-dbd0-4983-adab-ddf2036ee5cb",
   "metadata": {},
   "outputs": [
    {
     "data": {
      "text/plain": [
       "(3, 9)"
      ]
     },
     "execution_count": 32,
     "metadata": {},
     "output_type": "execute_result"
    }
   ],
   "source": [
    "a.size,r.size"
   ]
  },
  {
   "cell_type": "code",
   "execution_count": 34,
   "id": "af97034b-c2c8-4224-b42e-a98256d75821",
   "metadata": {},
   "outputs": [
    {
     "data": {
      "text/plain": [
       "(12, 36)"
      ]
     },
     "execution_count": 34,
     "metadata": {},
     "output_type": "execute_result"
    }
   ],
   "source": [
    "a.nbytes,r.nbytes"
   ]
  },
  {
   "cell_type": "code",
   "execution_count": 35,
   "id": "88b2e222-9b84-4cd0-8f9f-61a31edddd64",
   "metadata": {},
   "outputs": [],
   "source": [
    "a1=np.array([1,2,3,4,5],dtype=\"int\")"
   ]
  },
  {
   "cell_type": "code",
   "execution_count": 36,
   "id": "f4a0da45-b79c-42a5-9f15-acc6da16e547",
   "metadata": {},
   "outputs": [
    {
     "data": {
      "text/plain": [
       "array([1, 2, 3, 4, 5])"
      ]
     },
     "execution_count": 36,
     "metadata": {},
     "output_type": "execute_result"
    }
   ],
   "source": [
    "a1"
   ]
  },
  {
   "cell_type": "code",
   "execution_count": 2,
   "id": "3e587b0e-7991-448c-bfbd-94d0cee044ee",
   "metadata": {},
   "outputs": [],
   "source": [
    "import numpy as np"
   ]
  },
  {
   "cell_type": "code",
   "execution_count": 3,
   "id": "6e807f0b-f0bb-49c4-b04e-89fc3fe89d5d",
   "metadata": {},
   "outputs": [],
   "source": [
    "a=np.array([1,2,3])"
   ]
  },
  {
   "cell_type": "code",
   "execution_count": 4,
   "id": "4de6a000-e672-4b82-9f05-88b3dc2d74fc",
   "metadata": {},
   "outputs": [
    {
     "data": {
      "text/plain": [
       "array([1, 2, 3])"
      ]
     },
     "execution_count": 4,
     "metadata": {},
     "output_type": "execute_result"
    }
   ],
   "source": [
    "a"
   ]
  },
  {
   "cell_type": "code",
   "execution_count": 5,
   "id": "68faf616-34f8-48a8-bc3c-c3db06526fb0",
   "metadata": {},
   "outputs": [
    {
     "data": {
      "text/plain": [
       "(3,)"
      ]
     },
     "execution_count": 5,
     "metadata": {},
     "output_type": "execute_result"
    }
   ],
   "source": [
    "a.shape"
   ]
  },
  {
   "cell_type": "code",
   "execution_count": 13,
   "id": "7c5b24b8-fb1b-411a-98c7-c39e54fad0a4",
   "metadata": {},
   "outputs": [
    {
     "data": {
      "text/plain": [
       "dtype('int32')"
      ]
     },
     "execution_count": 13,
     "metadata": {},
     "output_type": "execute_result"
    }
   ],
   "source": [
    "a.dtype"
   ]
  },
  {
   "cell_type": "code",
   "execution_count": 14,
   "id": "7a424e80-4034-49bb-b2ac-8d2559550282",
   "metadata": {},
   "outputs": [
    {
     "data": {
      "text/plain": [
       "1"
      ]
     },
     "execution_count": 14,
     "metadata": {},
     "output_type": "execute_result"
    }
   ],
   "source": [
    "a.ndim"
   ]
  },
  {
   "cell_type": "code",
   "execution_count": 9,
   "id": "722068ea-9863-4ddc-b24f-01a3137a153b",
   "metadata": {},
   "outputs": [],
   "source": [
    "b=np.array([[1,2,3],[4,5,6]])"
   ]
  },
  {
   "cell_type": "code",
   "execution_count": 10,
   "id": "d22358f0-5007-41b2-a20e-a5a52327ad4e",
   "metadata": {},
   "outputs": [
    {
     "data": {
      "text/plain": [
       "array([[1, 2, 3],\n",
       "       [4, 5, 6]])"
      ]
     },
     "execution_count": 10,
     "metadata": {},
     "output_type": "execute_result"
    }
   ],
   "source": [
    "b"
   ]
  },
  {
   "cell_type": "code",
   "execution_count": 11,
   "id": "707e55fa-6012-4e80-a697-a356c81eec00",
   "metadata": {},
   "outputs": [
    {
     "data": {
      "text/plain": [
       "(2, 3)"
      ]
     },
     "execution_count": 11,
     "metadata": {},
     "output_type": "execute_result"
    }
   ],
   "source": [
    "b.shape"
   ]
  },
  {
   "cell_type": "code",
   "execution_count": 12,
   "id": "87c2dc9c-1b69-4973-adf1-a650520516d3",
   "metadata": {},
   "outputs": [
    {
     "data": {
      "text/plain": [
       "dtype('int32')"
      ]
     },
     "execution_count": 12,
     "metadata": {},
     "output_type": "execute_result"
    }
   ],
   "source": [
    "b.dtype"
   ]
  },
  {
   "cell_type": "code",
   "execution_count": 16,
   "id": "9a542560-cc38-43da-a885-4c7a9d1f23a2",
   "metadata": {},
   "outputs": [
    {
     "data": {
      "text/plain": [
       "2"
      ]
     },
     "execution_count": 16,
     "metadata": {},
     "output_type": "execute_result"
    }
   ],
   "source": [
    "b.ndim"
   ]
  },
  {
   "cell_type": "code",
   "execution_count": 17,
   "id": "dedfacbf-f8c8-4409-a6d8-15d9c5787e0f",
   "metadata": {},
   "outputs": [
    {
     "name": "stdout",
     "output_type": "stream",
     "text": [
      "tamim mahnmud sinthia orita kulsom shakib al hasan ami -pari cse porte\n"
     ]
    }
   ],
   "source": [
    "print(\"tamim mahnmud sinthia orita kulsom shakib al hasan ami -pari cse porte\")"
   ]
  },
  {
   "cell_type": "code",
   "execution_count": 18,
   "id": "41a67803-0c0d-44c2-889c-7fadcabf1bbc",
   "metadata": {},
   "outputs": [],
   "source": [
    "a=np.array([1,2,3],dtype=\"int\")"
   ]
  },
  {
   "cell_type": "code",
   "execution_count": 19,
   "id": "3ee8ce0c-6899-4f83-8c00-27a50d1f490b",
   "metadata": {},
   "outputs": [
    {
     "data": {
      "text/plain": [
       "array([1, 2, 3])"
      ]
     },
     "execution_count": 19,
     "metadata": {},
     "output_type": "execute_result"
    }
   ],
   "source": [
    "a"
   ]
  },
  {
   "cell_type": "code",
   "execution_count": 22,
   "id": "1c0e48cc-089f-429e-89cc-37b5697383f0",
   "metadata": {},
   "outputs": [],
   "source": [
    "z=np.zeros((2,2,1),dtype=\"float\")"
   ]
  },
  {
   "cell_type": "code",
   "execution_count": 24,
   "id": "00ecdd50-654b-4b4f-b264-25d8cff3ef5d",
   "metadata": {},
   "outputs": [],
   "source": [
    "z=np.zeros((2,2,1),dtype=\"float\")"
   ]
  },
  {
   "cell_type": "code",
   "execution_count": 25,
   "id": "50eb3c6a-7771-4127-951a-071f8e5cc7ce",
   "metadata": {},
   "outputs": [
    {
     "data": {
      "text/plain": [
       "array([[[0.],\n",
       "        [0.]],\n",
       "\n",
       "       [[0.],\n",
       "        [0.]]])"
      ]
     },
     "execution_count": 25,
     "metadata": {},
     "output_type": "execute_result"
    }
   ],
   "source": [
    "z"
   ]
  },
  {
   "cell_type": "code",
   "execution_count": 28,
   "id": "314a35cd-65a2-4d15-bd34-2413b6ec70bc",
   "metadata": {},
   "outputs": [],
   "source": [
    "s=np.zeros((3,3),dtype=\"int\")"
   ]
  },
  {
   "cell_type": "code",
   "execution_count": 27,
   "id": "01e2df7c-ad09-4cac-88a9-6281a8c4d619",
   "metadata": {},
   "outputs": [
    {
     "data": {
      "text/plain": [
       "array([[0., 0.],\n",
       "       [0., 0.]])"
      ]
     },
     "execution_count": 27,
     "metadata": {},
     "output_type": "execute_result"
    }
   ],
   "source": [
    "s"
   ]
  },
  {
   "cell_type": "code",
   "execution_count": 29,
   "id": "35558543-5e5d-469a-be6a-7f2f0ecad2af",
   "metadata": {},
   "outputs": [
    {
     "data": {
      "text/plain": [
       "array([[0, 0, 0],\n",
       "       [0, 0, 0],\n",
       "       [0, 0, 0]])"
      ]
     },
     "execution_count": 29,
     "metadata": {},
     "output_type": "execute_result"
    }
   ],
   "source": [
    "s"
   ]
  },
  {
   "cell_type": "code",
   "execution_count": 30,
   "id": "acd0d752-733e-465d-b24d-84adb5a66eaf",
   "metadata": {},
   "outputs": [],
   "source": [
    "l=np.zeros((5,5),dtype=\"int\")"
   ]
  },
  {
   "cell_type": "code",
   "execution_count": 31,
   "id": "ab37efc4-32c9-477a-8fb3-27edad8b4bcc",
   "metadata": {},
   "outputs": [
    {
     "data": {
      "text/plain": [
       "array([[0, 0, 0, 0, 0],\n",
       "       [0, 0, 0, 0, 0],\n",
       "       [0, 0, 0, 0, 0],\n",
       "       [0, 0, 0, 0, 0],\n",
       "       [0, 0, 0, 0, 0]])"
      ]
     },
     "execution_count": 31,
     "metadata": {},
     "output_type": "execute_result"
    }
   ],
   "source": [
    "l"
   ]
  },
  {
   "cell_type": "code",
   "execution_count": 32,
   "id": "f2003450-27dc-4afc-95d8-e44aa747648b",
   "metadata": {},
   "outputs": [],
   "source": [
    "l=np.ones((3,3),dtype=\"int\")"
   ]
  },
  {
   "cell_type": "code",
   "execution_count": 33,
   "id": "8ab55cb2-5954-43c5-8a96-f6d0cf39be68",
   "metadata": {},
   "outputs": [
    {
     "data": {
      "text/plain": [
       "array([[1, 1, 1],\n",
       "       [1, 1, 1],\n",
       "       [1, 1, 1]])"
      ]
     },
     "execution_count": 33,
     "metadata": {},
     "output_type": "execute_result"
    }
   ],
   "source": [
    "l"
   ]
  },
  {
   "cell_type": "code",
   "execution_count": 34,
   "id": "8d9678f1-9656-4970-86d5-36411e2e6b5c",
   "metadata": {},
   "outputs": [],
   "source": [
    "t=np.full((4,5),10)"
   ]
  },
  {
   "cell_type": "code",
   "execution_count": 35,
   "id": "16d06516-e436-4149-879d-ad3ed9b3e71f",
   "metadata": {},
   "outputs": [
    {
     "data": {
      "text/plain": [
       "array([[10, 10, 10, 10, 10],\n",
       "       [10, 10, 10, 10, 10],\n",
       "       [10, 10, 10, 10, 10],\n",
       "       [10, 10, 10, 10, 10]])"
      ]
     },
     "execution_count": 35,
     "metadata": {},
     "output_type": "execute_result"
    }
   ],
   "source": [
    "t"
   ]
  },
  {
   "cell_type": "code",
   "execution_count": 36,
   "id": "202e7541-7751-4076-ba00-15e76c0050a4",
   "metadata": {},
   "outputs": [],
   "source": [
    "m=np.identity(5,dtype=\"int\")"
   ]
  },
  {
   "cell_type": "code",
   "execution_count": 38,
   "id": "cb00d52c-6adf-4e7a-9694-4a23f0bd105f",
   "metadata": {},
   "outputs": [
    {
     "data": {
      "text/plain": [
       "array([[1, 0, 0, 0, 0],\n",
       "       [0, 1, 0, 0, 0],\n",
       "       [0, 0, 1, 0, 0],\n",
       "       [0, 0, 0, 1, 0],\n",
       "       [0, 0, 0, 0, 1]])"
      ]
     },
     "execution_count": 38,
     "metadata": {},
     "output_type": "execute_result"
    }
   ],
   "source": [
    "m"
   ]
  },
  {
   "cell_type": "code",
   "execution_count": 41,
   "id": "bce30d5c-60a7-4285-b6ff-b6d1cab2f63a",
   "metadata": {},
   "outputs": [],
   "source": [
    "eye=np.eye(3,3,1)"
   ]
  },
  {
   "cell_type": "code",
   "execution_count": 40,
   "id": "c1adcb1a-0632-4d79-92bd-b9ab0f04d543",
   "metadata": {},
   "outputs": [
    {
     "data": {
      "text/plain": [
       "array([[1., 0., 0.],\n",
       "       [0., 1., 0.],\n",
       "       [0., 0., 1.]])"
      ]
     },
     "execution_count": 40,
     "metadata": {},
     "output_type": "execute_result"
    }
   ],
   "source": [
    "eye"
   ]
  },
  {
   "cell_type": "code",
   "execution_count": 42,
   "id": "a42a6a2a-84a7-446c-b7fa-48c2384a3679",
   "metadata": {},
   "outputs": [
    {
     "data": {
      "text/plain": [
       "array([[0., 1., 0.],\n",
       "       [0., 0., 1.],\n",
       "       [0., 0., 0.]])"
      ]
     },
     "execution_count": 42,
     "metadata": {},
     "output_type": "execute_result"
    }
   ],
   "source": [
    "eye"
   ]
  },
  {
   "cell_type": "code",
   "execution_count": 44,
   "id": "eff027ec-bbf6-462f-88eb-c943df00873e",
   "metadata": {},
   "outputs": [],
   "source": [
    "w=np.arange(1,100,5)"
   ]
  },
  {
   "cell_type": "code",
   "execution_count": 45,
   "id": "c21b7ea3-a74a-4e46-ba23-80953ae47fb6",
   "metadata": {},
   "outputs": [
    {
     "data": {
      "text/plain": [
       "array([ 1,  6, 11, 16, 21, 26, 31, 36, 41, 46, 51, 56, 61, 66, 71, 76, 81,\n",
       "       86, 91, 96])"
      ]
     },
     "execution_count": 45,
     "metadata": {},
     "output_type": "execute_result"
    }
   ],
   "source": [
    "w"
   ]
  },
  {
   "cell_type": "code",
   "execution_count": 48,
   "id": "dcf32bea-74e3-4270-998d-02f3d6ad01ba",
   "metadata": {},
   "outputs": [],
   "source": [
    "l=np.linspace(1,5,100)"
   ]
  },
  {
   "cell_type": "code",
   "execution_count": 49,
   "id": "efbb69dc-78f7-4a46-8999-2e842edc8bfc",
   "metadata": {},
   "outputs": [
    {
     "data": {
      "text/plain": [
       "array([1.        , 1.04040404, 1.08080808, 1.12121212, 1.16161616,\n",
       "       1.2020202 , 1.24242424, 1.28282828, 1.32323232, 1.36363636,\n",
       "       1.4040404 , 1.44444444, 1.48484848, 1.52525253, 1.56565657,\n",
       "       1.60606061, 1.64646465, 1.68686869, 1.72727273, 1.76767677,\n",
       "       1.80808081, 1.84848485, 1.88888889, 1.92929293, 1.96969697,\n",
       "       2.01010101, 2.05050505, 2.09090909, 2.13131313, 2.17171717,\n",
       "       2.21212121, 2.25252525, 2.29292929, 2.33333333, 2.37373737,\n",
       "       2.41414141, 2.45454545, 2.49494949, 2.53535354, 2.57575758,\n",
       "       2.61616162, 2.65656566, 2.6969697 , 2.73737374, 2.77777778,\n",
       "       2.81818182, 2.85858586, 2.8989899 , 2.93939394, 2.97979798,\n",
       "       3.02020202, 3.06060606, 3.1010101 , 3.14141414, 3.18181818,\n",
       "       3.22222222, 3.26262626, 3.3030303 , 3.34343434, 3.38383838,\n",
       "       3.42424242, 3.46464646, 3.50505051, 3.54545455, 3.58585859,\n",
       "       3.62626263, 3.66666667, 3.70707071, 3.74747475, 3.78787879,\n",
       "       3.82828283, 3.86868687, 3.90909091, 3.94949495, 3.98989899,\n",
       "       4.03030303, 4.07070707, 4.11111111, 4.15151515, 4.19191919,\n",
       "       4.23232323, 4.27272727, 4.31313131, 4.35353535, 4.39393939,\n",
       "       4.43434343, 4.47474747, 4.51515152, 4.55555556, 4.5959596 ,\n",
       "       4.63636364, 4.67676768, 4.71717172, 4.75757576, 4.7979798 ,\n",
       "       4.83838384, 4.87878788, 4.91919192, 4.95959596, 5.        ])"
      ]
     },
     "execution_count": 49,
     "metadata": {},
     "output_type": "execute_result"
    }
   ],
   "source": [
    "l"
   ]
  },
  {
   "cell_type": "code",
   "execution_count": 51,
   "id": "54ce4053-c417-4e6c-8cb8-8690e541f45e",
   "metadata": {},
   "outputs": [
    {
     "data": {
      "text/plain": [
       "100"
      ]
     },
     "execution_count": 51,
     "metadata": {},
     "output_type": "execute_result"
    }
   ],
   "source": [
    "l.size"
   ]
  },
  {
   "cell_type": "code",
   "execution_count": 52,
   "id": "9babb818-b6da-4866-ae31-355b140aeddb",
   "metadata": {},
   "outputs": [],
   "source": [
    "m=np.linspace(1,100,500,dtype=\"int\")"
   ]
  },
  {
   "cell_type": "code",
   "execution_count": 53,
   "id": "077652c0-2a07-4bd4-97e3-cc9a642e531b",
   "metadata": {},
   "outputs": [
    {
     "data": {
      "text/plain": [
       "array([  1,   1,   1,   1,   1,   1,   2,   2,   2,   2,   2,   3,   3,\n",
       "         3,   3,   3,   4,   4,   4,   4,   4,   5,   5,   5,   5,   5,\n",
       "         6,   6,   6,   6,   6,   7,   7,   7,   7,   7,   8,   8,   8,\n",
       "         8,   8,   9,   9,   9,   9,   9,  10,  10,  10,  10,  10,  11,\n",
       "        11,  11,  11,  11,  12,  12,  12,  12,  12,  13,  13,  13,  13,\n",
       "        13,  14,  14,  14,  14,  14,  15,  15,  15,  15,  15,  16,  16,\n",
       "        16,  16,  16,  17,  17,  17,  17,  17,  18,  18,  18,  18,  18,\n",
       "        19,  19,  19,  19,  19,  20,  20,  20,  20,  20,  21,  21,  21,\n",
       "        21,  21,  22,  22,  22,  22,  22,  23,  23,  23,  23,  23,  24,\n",
       "        24,  24,  24,  24,  25,  25,  25,  25,  25,  25,  26,  26,  26,\n",
       "        26,  26,  27,  27,  27,  27,  27,  28,  28,  28,  28,  28,  29,\n",
       "        29,  29,  29,  29,  30,  30,  30,  30,  30,  31,  31,  31,  31,\n",
       "        31,  32,  32,  32,  32,  32,  33,  33,  33,  33,  33,  34,  34,\n",
       "        34,  34,  34,  35,  35,  35,  35,  35,  36,  36,  36,  36,  36,\n",
       "        37,  37,  37,  37,  37,  38,  38,  38,  38,  38,  39,  39,  39,\n",
       "        39,  39,  40,  40,  40,  40,  40,  41,  41,  41,  41,  41,  42,\n",
       "        42,  42,  42,  42,  43,  43,  43,  43,  43,  44,  44,  44,  44,\n",
       "        44,  45,  45,  45,  45,  45,  46,  46,  46,  46,  46,  47,  47,\n",
       "        47,  47,  47,  48,  48,  48,  48,  48,  49,  49,  49,  49,  49,\n",
       "        50,  50,  50,  50,  50,  50,  51,  51,  51,  51,  51,  52,  52,\n",
       "        52,  52,  52,  53,  53,  53,  53,  53,  54,  54,  54,  54,  54,\n",
       "        55,  55,  55,  55,  55,  56,  56,  56,  56,  56,  57,  57,  57,\n",
       "        57,  57,  58,  58,  58,  58,  58,  59,  59,  59,  59,  59,  60,\n",
       "        60,  60,  60,  60,  61,  61,  61,  61,  61,  62,  62,  62,  62,\n",
       "        62,  63,  63,  63,  63,  63,  64,  64,  64,  64,  64,  65,  65,\n",
       "        65,  65,  65,  66,  66,  66,  66,  66,  67,  67,  67,  67,  67,\n",
       "        68,  68,  68,  68,  68,  69,  69,  69,  69,  69,  70,  70,  70,\n",
       "        70,  70,  71,  71,  71,  71,  71,  72,  72,  72,  72,  72,  73,\n",
       "        73,  73,  73,  73,  74,  74,  74,  74,  74,  75,  75,  75,  75,\n",
       "        75,  75,  76,  76,  76,  76,  76,  77,  77,  77,  77,  77,  78,\n",
       "        78,  78,  78,  78,  79,  79,  79,  79,  79,  80,  80,  80,  80,\n",
       "        80,  81,  81,  81,  81,  81,  82,  82,  82,  82,  82,  83,  83,\n",
       "        83,  83,  83,  84,  84,  84,  84,  84,  85,  85,  85,  85,  85,\n",
       "        86,  86,  86,  86,  86,  87,  87,  87,  87,  87,  88,  88,  88,\n",
       "        88,  88,  89,  89,  89,  89,  89,  90,  90,  90,  90,  90,  91,\n",
       "        91,  91,  91,  91,  92,  92,  92,  92,  92,  93,  93,  93,  93,\n",
       "        93,  94,  94,  94,  94,  94,  95,  95,  95,  95,  95,  96,  96,\n",
       "        96,  96,  96,  97,  97,  97,  97,  97,  98,  98,  98,  98,  98,\n",
       "        99,  99,  99,  99,  99, 100])"
      ]
     },
     "execution_count": 53,
     "metadata": {},
     "output_type": "execute_result"
    }
   ],
   "source": [
    "m"
   ]
  },
  {
   "cell_type": "code",
   "execution_count": 54,
   "id": "27f0a0e7-1084-4740-8d3c-7559748976b1",
   "metadata": {},
   "outputs": [
    {
     "data": {
      "text/plain": [
       "500"
      ]
     },
     "execution_count": 54,
     "metadata": {},
     "output_type": "execute_result"
    }
   ],
   "source": [
    "m.size"
   ]
  },
  {
   "cell_type": "code",
   "execution_count": 56,
   "id": "02d6f1f8-d80b-49bb-84f6-fb3dad6c17b7",
   "metadata": {},
   "outputs": [],
   "source": [
    "k=np.empty((1,5))"
   ]
  },
  {
   "cell_type": "code",
   "execution_count": 57,
   "id": "a24a1289-dd00-4da3-ac01-9ce22a0cb8d6",
   "metadata": {},
   "outputs": [
    {
     "data": {
      "text/plain": [
       "array([[6.23042070e-307, 4.67296746e-307, 1.69121096e-306,\n",
       "        1.69761995e-312, 1.66400008e-294]])"
      ]
     },
     "execution_count": 57,
     "metadata": {},
     "output_type": "execute_result"
    }
   ],
   "source": [
    "k"
   ]
  },
  {
   "cell_type": "code",
   "execution_count": null,
   "id": "6f892d95-8cd3-4b1e-a76b-7453d62dbd62",
   "metadata": {},
   "outputs": [],
   "source": []
  },
  {
   "cell_type": "code",
   "execution_count": 60,
   "id": "11472da9-5294-4993-a5c8-21e5d1a0f437",
   "metadata": {},
   "outputs": [
    {
     "data": {
      "text/plain": [
       "array([[6.23042070e-307, 4.67296746e-307, 1.69121096e-306,\n",
       "        1.69761995e-312, 1.66400008e-294]])"
      ]
     },
     "execution_count": 60,
     "metadata": {},
     "output_type": "execute_result"
    }
   ],
   "source": [
    "k"
   ]
  },
  {
   "cell_type": "code",
   "execution_count": 61,
   "id": "eef91f98-7f00-4e0b-b776-ffe5521af32c",
   "metadata": {},
   "outputs": [],
   "source": [
    "a=np.array([1,2,3,4,5])"
   ]
  },
  {
   "cell_type": "code",
   "execution_count": 62,
   "id": "10f27b4a-39a7-497e-8e1d-57d00a20dc28",
   "metadata": {},
   "outputs": [
    {
     "data": {
      "text/plain": [
       "array([1, 2, 3, 4, 5])"
      ]
     },
     "execution_count": 62,
     "metadata": {},
     "output_type": "execute_result"
    }
   ],
   "source": [
    "a"
   ]
  },
  {
   "cell_type": "code",
   "execution_count": 63,
   "id": "12b2ffc8-2304-4ac8-b2b1-7cdc4b6e928a",
   "metadata": {},
   "outputs": [
    {
     "name": "stdout",
     "output_type": "stream",
     "text": [
      "[1 2 3 4 5]\n"
     ]
    }
   ],
   "source": [
    "print(a)"
   ]
  },
  {
   "cell_type": "code",
   "execution_count": 65,
   "id": "1723c635-c3fd-4b57-873d-aabaea504566",
   "metadata": {},
   "outputs": [
    {
     "data": {
      "text/plain": [
       "5"
      ]
     },
     "execution_count": 65,
     "metadata": {},
     "output_type": "execute_result"
    }
   ],
   "source": [
    "a[4]"
   ]
  },
  {
   "cell_type": "code",
   "execution_count": 67,
   "id": "1ae01714-f59e-4f18-b041-300d4b6f54e2",
   "metadata": {},
   "outputs": [],
   "source": [
    "a2=np.random.randint(1,10,size=(3,3))"
   ]
  },
  {
   "cell_type": "code",
   "execution_count": 68,
   "id": "11941a32-475b-41f6-871d-701477395abf",
   "metadata": {},
   "outputs": [
    {
     "data": {
      "text/plain": [
       "array([[9, 5, 5],\n",
       "       [2, 3, 3],\n",
       "       [3, 6, 2]])"
      ]
     },
     "execution_count": 68,
     "metadata": {},
     "output_type": "execute_result"
    }
   ],
   "source": [
    "a2"
   ]
  },
  {
   "cell_type": "code",
   "execution_count": 69,
   "id": "d17d9cfa-a361-424a-985f-5f635370a318",
   "metadata": {},
   "outputs": [
    {
     "data": {
      "text/plain": [
       "9"
      ]
     },
     "execution_count": 69,
     "metadata": {},
     "output_type": "execute_result"
    }
   ],
   "source": [
    "a2[0][0] "
   ]
  },
  {
   "cell_type": "code",
   "execution_count": 71,
   "id": "e8832508-18a7-454a-ba67-8987ac3b7f2c",
   "metadata": {},
   "outputs": [
    {
     "data": {
      "text/plain": [
       "5"
      ]
     },
     "execution_count": 71,
     "metadata": {},
     "output_type": "execute_result"
    }
   ],
   "source": [
    "a2[0][1]"
   ]
  },
  {
   "cell_type": "code",
   "execution_count": 72,
   "id": "c90ae0ad-796b-4b0b-974f-5c800496eba9",
   "metadata": {},
   "outputs": [
    {
     "data": {
      "text/plain": [
       "3"
      ]
     },
     "execution_count": 72,
     "metadata": {},
     "output_type": "execute_result"
    }
   ],
   "source": [
    "a2[1][1]"
   ]
  },
  {
   "cell_type": "code",
   "execution_count": 73,
   "id": "4f0f5407-1275-4188-817a-cacfe7819670",
   "metadata": {},
   "outputs": [
    {
     "data": {
      "text/plain": [
       "2"
      ]
     },
     "execution_count": 73,
     "metadata": {},
     "output_type": "execute_result"
    }
   ],
   "source": [
    "a2[2][2]"
   ]
  },
  {
   "cell_type": "code",
   "execution_count": 81,
   "id": "7fb8a61f-5b62-49b2-8112-3bf031083769",
   "metadata": {},
   "outputs": [],
   "source": [
    " s=np.random.randint(1,10,size=(2,3,3))"
   ]
  },
  {
   "cell_type": "code",
   "execution_count": 82,
   "id": "ce3389d1-1775-45d2-be31-0825b80d72aa",
   "metadata": {},
   "outputs": [
    {
     "data": {
      "text/plain": [
       "array([[[5, 7, 6],\n",
       "        [2, 8, 7],\n",
       "        [7, 8, 3]],\n",
       "\n",
       "       [[6, 8, 6],\n",
       "        [8, 4, 3],\n",
       "        [2, 8, 8]]])"
      ]
     },
     "execution_count": 82,
     "metadata": {},
     "output_type": "execute_result"
    }
   ],
   "source": [
    "s"
   ]
  },
  {
   "cell_type": "code",
   "execution_count": 80,
   "id": "0ab32805-8625-44c0-80a2-64558bcc3f29",
   "metadata": {},
   "outputs": [
    {
     "data": {
      "text/plain": [
       "array([1, 7, 3])"
      ]
     },
     "execution_count": 80,
     "metadata": {},
     "output_type": "execute_result"
    }
   ],
   "source": [
    "s[1][1]"
   ]
  },
  {
   "cell_type": "code",
   "execution_count": 83,
   "id": "4b314c7e-3946-42ff-869d-ded5edc475bd",
   "metadata": {},
   "outputs": [
    {
     "data": {
      "text/plain": [
       "array([8, 4, 3])"
      ]
     },
     "execution_count": 83,
     "metadata": {},
     "output_type": "execute_result"
    }
   ],
   "source": [
    "s[1][1]"
   ]
  },
  {
   "cell_type": "code",
   "execution_count": 84,
   "id": "f9051ff4-f6ff-4e05-aef0-8871ce65161d",
   "metadata": {},
   "outputs": [
    {
     "data": {
      "text/plain": [
       "8"
      ]
     },
     "execution_count": 84,
     "metadata": {},
     "output_type": "execute_result"
    }
   ],
   "source": [
    "s[0][1][1]"
   ]
  },
  {
   "cell_type": "code",
   "execution_count": 85,
   "id": "3bdb3814-98cb-44dd-8137-edadd044354c",
   "metadata": {},
   "outputs": [
    {
     "data": {
      "text/plain": [
       "4"
      ]
     },
     "execution_count": 85,
     "metadata": {},
     "output_type": "execute_result"
    }
   ],
   "source": [
    "s[1][1][1]"
   ]
  },
  {
   "cell_type": "code",
   "execution_count": 86,
   "id": "200a11af-3f24-489c-9a07-49fd0e5c08e8",
   "metadata": {},
   "outputs": [
    {
     "data": {
      "text/plain": [
       "7"
      ]
     },
     "execution_count": 86,
     "metadata": {},
     "output_type": "execute_result"
    }
   ],
   "source": [
    "s[0][2][0]"
   ]
  },
  {
   "cell_type": "code",
   "execution_count": 87,
   "id": "e18cdb7c-4b27-4ab2-b90e-6ad2e7b3cde8",
   "metadata": {},
   "outputs": [
    {
     "data": {
      "text/plain": [
       "3"
      ]
     },
     "execution_count": 87,
     "metadata": {},
     "output_type": "execute_result"
    }
   ],
   "source": [
    "s[1][1][2]"
   ]
  },
  {
   "cell_type": "code",
   "execution_count": 89,
   "id": "2047f8ea-35e2-4376-94c0-46b97109d525",
   "metadata": {},
   "outputs": [
    {
     "data": {
      "text/plain": [
       "3"
      ]
     },
     "execution_count": 89,
     "metadata": {},
     "output_type": "execute_result"
    }
   ],
   "source": [
    "s[1,1,2]"
   ]
  },
  {
   "cell_type": "code",
   "execution_count": 91,
   "id": "6ae63f2c-52be-416e-91bf-59c4f0af82cd",
   "metadata": {},
   "outputs": [],
   "source": [
    "a=np.array([1,2,3,4,5])"
   ]
  },
  {
   "cell_type": "code",
   "execution_count": 92,
   "id": "52cc7bad-d0e6-4d9d-83b2-12297dd92323",
   "metadata": {},
   "outputs": [
    {
     "data": {
      "text/plain": [
       "array([1, 2, 3, 4, 5])"
      ]
     },
     "execution_count": 92,
     "metadata": {},
     "output_type": "execute_result"
    }
   ],
   "source": [
    "a"
   ]
  },
  {
   "cell_type": "code",
   "execution_count": 93,
   "id": "e9dc63ad-770e-4d82-b412-3ecb1c5e04b7",
   "metadata": {},
   "outputs": [
    {
     "data": {
      "text/plain": [
       "array([1, 2, 3, 4])"
      ]
     },
     "execution_count": 93,
     "metadata": {},
     "output_type": "execute_result"
    }
   ],
   "source": [
    "a[0:4]"
   ]
  },
  {
   "cell_type": "code",
   "execution_count": 94,
   "id": "1d9d6d88-9934-46a3-abad-94ad440992e2",
   "metadata": {},
   "outputs": [
    {
     "data": {
      "text/plain": [
       "array([1, 2, 3])"
      ]
     },
     "execution_count": 94,
     "metadata": {},
     "output_type": "execute_result"
    }
   ],
   "source": [
    "a[ :3]"
   ]
  },
  {
   "cell_type": "code",
   "execution_count": 95,
   "id": "9fd13b6c-c1dc-4b0f-a5a2-44061c2da61a",
   "metadata": {},
   "outputs": [
    {
     "data": {
      "text/plain": [
       "array([3, 4, 5])"
      ]
     },
     "execution_count": 95,
     "metadata": {},
     "output_type": "execute_result"
    }
   ],
   "source": [
    "a[2:]"
   ]
  },
  {
   "cell_type": "code",
   "execution_count": 96,
   "id": "420a5257-7a9b-40f1-97ab-7ea1929305b5",
   "metadata": {},
   "outputs": [
    {
     "data": {
      "text/plain": [
       "array([[[5, 7, 6],\n",
       "        [2, 8, 7],\n",
       "        [7, 8, 3]],\n",
       "\n",
       "       [[6, 8, 6],\n",
       "        [8, 4, 3],\n",
       "        [2, 8, 8]]])"
      ]
     },
     "execution_count": 96,
     "metadata": {},
     "output_type": "execute_result"
    }
   ],
   "source": [
    "s"
   ]
  },
  {
   "cell_type": "code",
   "execution_count": 97,
   "id": "173203bc-a57d-47c7-b460-811fb4780977",
   "metadata": {},
   "outputs": [
    {
     "data": {
      "text/plain": [
       "array([[9, 5, 5],\n",
       "       [2, 3, 3],\n",
       "       [3, 6, 2]])"
      ]
     },
     "execution_count": 97,
     "metadata": {},
     "output_type": "execute_result"
    }
   ],
   "source": [
    "a2"
   ]
  },
  {
   "cell_type": "code",
   "execution_count": 98,
   "id": "cdb2c064-98ca-48c2-ae00-2eaa19f6b2a5",
   "metadata": {},
   "outputs": [
    {
     "data": {
      "text/plain": [
       "array([[9, 5, 5],\n",
       "       [2, 3, 3]])"
      ]
     },
     "execution_count": 98,
     "metadata": {},
     "output_type": "execute_result"
    }
   ],
   "source": [
    "a2[0:2]"
   ]
  },
  {
   "cell_type": "code",
   "execution_count": 99,
   "id": "cfbcb051-5dea-4a4c-afa0-30becd47d91a",
   "metadata": {},
   "outputs": [
    {
     "data": {
      "text/plain": [
       "array([[9, 5],\n",
       "       [2, 3]])"
      ]
     },
     "execution_count": 99,
     "metadata": {},
     "output_type": "execute_result"
    }
   ],
   "source": [
    "a2[0:2,0:2]"
   ]
  },
  {
   "cell_type": "code",
   "execution_count": 100,
   "id": "6f3e5966-0014-4d13-9310-3e9b4d3e0705",
   "metadata": {},
   "outputs": [
    {
     "data": {
      "text/plain": [
       "array([[3, 3],\n",
       "       [6, 2]])"
      ]
     },
     "execution_count": 100,
     "metadata": {},
     "output_type": "execute_result"
    }
   ],
   "source": [
    "a2[1:3,1:3]"
   ]
  },
  {
   "cell_type": "code",
   "execution_count": 2,
   "id": "b4f78e7d-5e7b-4b97-a198-d06a70941dd0",
   "metadata": {},
   "outputs": [],
   "source": [
    "import numpy as np"
   ]
  },
  {
   "cell_type": "code",
   "execution_count": null,
   "id": "c81ca55f-76cd-42cf-a621-c40fedf23ca0",
   "metadata": {},
   "outputs": [],
   "source": []
  },
  {
   "cell_type": "code",
   "execution_count": 4,
   "id": "40b7b66d-57cc-4307-82be-991d388df7f0",
   "metadata": {},
   "outputs": [],
   "source": [
    "a=np.array([1,2,3])"
   ]
  },
  {
   "cell_type": "code",
   "execution_count": 5,
   "id": "ed0f09bc-e266-4892-a80a-4834c0896a36",
   "metadata": {},
   "outputs": [
    {
     "data": {
      "text/plain": [
       "array([1, 2, 3])"
      ]
     },
     "execution_count": 5,
     "metadata": {},
     "output_type": "execute_result"
    }
   ],
   "source": [
    "a"
   ]
  },
  {
   "cell_type": "code",
   "execution_count": 6,
   "id": "3409937e-2c39-4dda-ad2e-3253f9444786",
   "metadata": {},
   "outputs": [
    {
     "name": "stdout",
     "output_type": "stream",
     "text": [
      "[1 2 3]\n"
     ]
    }
   ],
   "source": [
    "print(a)"
   ]
  },
  {
   "cell_type": "code",
   "execution_count": 2,
   "id": "895e1e3f-309f-432f-ad4e-04ff5344993a",
   "metadata": {},
   "outputs": [],
   "source": [
    "import numpy as np"
   ]
  },
  {
   "cell_type": "code",
   "execution_count": 3,
   "id": "3b108fb7-e79c-472c-b843-8959365c176f",
   "metadata": {},
   "outputs": [],
   "source": [
    "a=np.array([[1,2,3],[4,5,6]])"
   ]
  },
  {
   "cell_type": "code",
   "execution_count": null,
   "id": "23590d5a-0716-4ff8-bf7f-76068b83994a",
   "metadata": {},
   "outputs": [],
   "source": []
  },
  {
   "cell_type": "code",
   "execution_count": 4,
   "id": "c2f133ab-064a-4169-a942-89052a945f9c",
   "metadata": {},
   "outputs": [
    {
     "data": {
      "text/plain": [
       "array([[1, 2, 3],\n",
       "       [4, 5, 6]])"
      ]
     },
     "execution_count": 4,
     "metadata": {},
     "output_type": "execute_result"
    }
   ],
   "source": [
    "a"
   ]
  },
  {
   "cell_type": "code",
   "execution_count": 5,
   "id": "e4f015c2-aa19-444f-842c-8ed4da2a1df7",
   "metadata": {},
   "outputs": [
    {
     "data": {
      "text/plain": [
       "(2, 3)"
      ]
     },
     "execution_count": 5,
     "metadata": {},
     "output_type": "execute_result"
    }
   ],
   "source": [
    "a.shape"
   ]
  },
  {
   "cell_type": "code",
   "execution_count": 6,
   "id": "d5899592-4ae5-44ee-bce8-2fdcfc42f353",
   "metadata": {},
   "outputs": [],
   "source": [
    "a=np.reshape(a,(3,2))"
   ]
  },
  {
   "cell_type": "code",
   "execution_count": 7,
   "id": "63eff7e2-8457-4650-8934-edba50b1a39b",
   "metadata": {},
   "outputs": [
    {
     "data": {
      "text/plain": [
       "array([[1, 2],\n",
       "       [3, 4],\n",
       "       [5, 6]])"
      ]
     },
     "execution_count": 7,
     "metadata": {},
     "output_type": "execute_result"
    }
   ],
   "source": [
    "a"
   ]
  },
  {
   "cell_type": "code",
   "execution_count": 8,
   "id": "b8696b01-d22a-4b4d-9d95-7258594ffde7",
   "metadata": {},
   "outputs": [
    {
     "data": {
      "text/plain": [
       "(3, 2)"
      ]
     },
     "execution_count": 8,
     "metadata": {},
     "output_type": "execute_result"
    }
   ],
   "source": [
    "a.shape"
   ]
  },
  {
   "cell_type": "markdown",
   "id": "bc0b7c8a-e1cd-4282-aff2-808072e69fd5",
   "metadata": {},
   "source": [
    "#resize"
   ]
  },
  {
   "cell_type": "code",
   "execution_count": 11,
   "id": "b8b8a8a8-69dc-42d6-9cfb-8d9abb8c5b5a",
   "metadata": {},
   "outputs": [],
   "source": [
    "a=np.resize(a,(3,3))"
   ]
  },
  {
   "cell_type": "code",
   "execution_count": 12,
   "id": "7853dfbc-4279-4814-aa22-8e9e18f812c7",
   "metadata": {},
   "outputs": [
    {
     "data": {
      "text/plain": [
       "array([[1, 2, 3],\n",
       "       [4, 5, 6],\n",
       "       [1, 2, 3]])"
      ]
     },
     "execution_count": 12,
     "metadata": {},
     "output_type": "execute_result"
    }
   ],
   "source": [
    "a"
   ]
  },
  {
   "cell_type": "code",
   "execution_count": 14,
   "id": "80f2ce28-86ec-437f-bb01-4158d5cbb650",
   "metadata": {},
   "outputs": [],
   "source": [
    "a=np.reshape(a,(3,3))"
   ]
  },
  {
   "cell_type": "code",
   "execution_count": 15,
   "id": "26538462-abde-4f5f-957d-37087b586707",
   "metadata": {},
   "outputs": [
    {
     "data": {
      "text/plain": [
       "array([[1, 2, 3],\n",
       "       [4, 5, 6],\n",
       "       [1, 2, 3]])"
      ]
     },
     "execution_count": 15,
     "metadata": {},
     "output_type": "execute_result"
    }
   ],
   "source": [
    "a"
   ]
  },
  {
   "cell_type": "code",
   "execution_count": 16,
   "id": "b91e63dd-149b-42af-a979-5c6a2d3c3eb5",
   "metadata": {},
   "outputs": [],
   "source": [
    "a=np.resize(a,(4,3))"
   ]
  },
  {
   "cell_type": "code",
   "execution_count": 17,
   "id": "1759ee84-72d3-47df-bce4-b63e2623d8bc",
   "metadata": {},
   "outputs": [
    {
     "data": {
      "text/plain": [
       "array([[1, 2, 3],\n",
       "       [4, 5, 6],\n",
       "       [1, 2, 3],\n",
       "       [1, 2, 3]])"
      ]
     },
     "execution_count": 17,
     "metadata": {},
     "output_type": "execute_result"
    }
   ],
   "source": [
    "a"
   ]
  },
  {
   "cell_type": "code",
   "execution_count": 18,
   "id": "662dd84f-008e-4535-a71c-4bc929956173",
   "metadata": {},
   "outputs": [],
   "source": [
    "a=np.reshape(a,(3,4))"
   ]
  },
  {
   "cell_type": "code",
   "execution_count": 19,
   "id": "6f664911-7057-4639-b07f-0a4f2ec35534",
   "metadata": {},
   "outputs": [
    {
     "data": {
      "text/plain": [
       "array([[1, 2, 3, 4],\n",
       "       [5, 6, 1, 2],\n",
       "       [3, 1, 2, 3]])"
      ]
     },
     "execution_count": 19,
     "metadata": {},
     "output_type": "execute_result"
    }
   ],
   "source": [
    "a"
   ]
  },
  {
   "cell_type": "code",
   "execution_count": 20,
   "id": "b2da0105-cb9d-4e6e-89d0-7d4301369e4f",
   "metadata": {},
   "outputs": [],
   "source": [
    "a=np.resize(a,(5,4))"
   ]
  },
  {
   "cell_type": "code",
   "execution_count": 21,
   "id": "3fb76a05-9ee9-4208-b1af-55601b8f1707",
   "metadata": {},
   "outputs": [
    {
     "data": {
      "text/plain": [
       "array([[1, 2, 3, 4],\n",
       "       [5, 6, 1, 2],\n",
       "       [3, 1, 2, 3],\n",
       "       [1, 2, 3, 4],\n",
       "       [5, 6, 1, 2]])"
      ]
     },
     "execution_count": 21,
     "metadata": {},
     "output_type": "execute_result"
    }
   ],
   "source": [
    "a"
   ]
  },
  {
   "cell_type": "code",
   "execution_count": 23,
   "id": "6d727abd-bd95-48f7-a7a3-28d2b55bd997",
   "metadata": {},
   "outputs": [],
   "source": [
    "a=np.reshape(a,(4,5))"
   ]
  },
  {
   "cell_type": "code",
   "execution_count": 24,
   "id": "e62d8118-eddc-4d62-8568-76a74684917a",
   "metadata": {},
   "outputs": [
    {
     "data": {
      "text/plain": [
       "array([[1, 2, 3, 4, 5],\n",
       "       [6, 1, 2, 3, 1],\n",
       "       [2, 3, 1, 2, 3],\n",
       "       [4, 5, 6, 1, 2]])"
      ]
     },
     "execution_count": 24,
     "metadata": {},
     "output_type": "execute_result"
    }
   ],
   "source": [
    "a"
   ]
  },
  {
   "cell_type": "markdown",
   "id": "76536299-df97-4667-ac16-0122b7450c4a",
   "metadata": {},
   "source": [
    "#ravel"
   ]
  },
  {
   "cell_type": "code",
   "execution_count": 26,
   "id": "fd616056-cca9-44d9-b2e9-d0eff7ab9059",
   "metadata": {},
   "outputs": [],
   "source": [
    "a=np.random.randint(1,10,(2,3))"
   ]
  },
  {
   "cell_type": "code",
   "execution_count": 27,
   "id": "0e11203c-ad8e-4621-bd2c-e4725596766b",
   "metadata": {},
   "outputs": [
    {
     "data": {
      "text/plain": [
       "array([[8, 5, 3],\n",
       "       [6, 8, 2]])"
      ]
     },
     "execution_count": 27,
     "metadata": {},
     "output_type": "execute_result"
    }
   ],
   "source": [
    "a"
   ]
  },
  {
   "cell_type": "code",
   "execution_count": 28,
   "id": "5ade3bcb-eca0-4081-8b6d-e3a96aaa20bd",
   "metadata": {},
   "outputs": [],
   "source": [
    "a=np.ravel(a)"
   ]
  },
  {
   "cell_type": "code",
   "execution_count": 29,
   "id": "eb71cd28-0162-4273-8d2b-36cecf912f5e",
   "metadata": {},
   "outputs": [
    {
     "data": {
      "text/plain": [
       "array([8, 5, 3, 6, 8, 2])"
      ]
     },
     "execution_count": 29,
     "metadata": {},
     "output_type": "execute_result"
    }
   ],
   "source": [
    "a"
   ]
  },
  {
   "cell_type": "code",
   "execution_count": 30,
   "id": "9cf39fa8-c104-44a5-834b-e421465de68a",
   "metadata": {},
   "outputs": [
    {
     "data": {
      "text/plain": [
       "(6,)"
      ]
     },
     "execution_count": 30,
     "metadata": {},
     "output_type": "execute_result"
    }
   ],
   "source": [
    "a.shape"
   ]
  },
  {
   "cell_type": "code",
   "execution_count": 31,
   "id": "775e7cd4-9f3d-4a51-953f-e16b9c696096",
   "metadata": {},
   "outputs": [
    {
     "data": {
      "text/plain": [
       "array([8, 5, 3, 6, 8, 2])"
      ]
     },
     "execution_count": 31,
     "metadata": {},
     "output_type": "execute_result"
    }
   ],
   "source": [
    "a"
   ]
  },
  {
   "cell_type": "code",
   "execution_count": 32,
   "id": "538b2005-bdba-4ab9-926d-93325b61aa73",
   "metadata": {},
   "outputs": [],
   "source": [
    "a=np.random.randint(1,20,(3,4))"
   ]
  },
  {
   "cell_type": "code",
   "execution_count": 33,
   "id": "357eceb5-4c2a-476c-a72a-3e8a701d6e06",
   "metadata": {},
   "outputs": [
    {
     "data": {
      "text/plain": [
       "array([[ 5,  8, 18,  6],\n",
       "       [11,  2, 12, 19],\n",
       "       [19,  6, 14, 10]])"
      ]
     },
     "execution_count": 33,
     "metadata": {},
     "output_type": "execute_result"
    }
   ],
   "source": [
    "a"
   ]
  },
  {
   "cell_type": "code",
   "execution_count": 37,
   "id": "8c93efc9-3780-4a15-86f8-df7b8374d0c5",
   "metadata": {},
   "outputs": [],
   "source": [
    "s=a.flatten()"
   ]
  },
  {
   "cell_type": "code",
   "execution_count": 36,
   "id": "354afb53-5805-4ce6-b1bc-8d752967f3a2",
   "metadata": {},
   "outputs": [
    {
     "data": {
      "text/plain": [
       "<function ndarray.flatten>"
      ]
     },
     "execution_count": 36,
     "metadata": {},
     "output_type": "execute_result"
    }
   ],
   "source": [
    "s"
   ]
  },
  {
   "cell_type": "code",
   "execution_count": 38,
   "id": "7b4a4795-e73c-4018-813f-6e1318826aad",
   "metadata": {},
   "outputs": [
    {
     "data": {
      "text/plain": [
       "array([ 5,  8, 18,  6, 11,  2, 12, 19, 19,  6, 14, 10])"
      ]
     },
     "execution_count": 38,
     "metadata": {},
     "output_type": "execute_result"
    }
   ],
   "source": [
    "s"
   ]
  },
  {
   "cell_type": "code",
   "execution_count": 39,
   "id": "7a14c054-4a35-4ff5-adf3-35d6a6771f0f",
   "metadata": {},
   "outputs": [],
   "source": [
    "a[0]=99"
   ]
  },
  {
   "cell_type": "code",
   "execution_count": 40,
   "id": "4d35cc58-9275-46e6-8f41-31b89acf2cb8",
   "metadata": {},
   "outputs": [
    {
     "data": {
      "text/plain": [
       "array([[99, 99, 99, 99],\n",
       "       [11,  2, 12, 19],\n",
       "       [19,  6, 14, 10]])"
      ]
     },
     "execution_count": 40,
     "metadata": {},
     "output_type": "execute_result"
    }
   ],
   "source": [
    "a"
   ]
  },
  {
   "cell_type": "code",
   "execution_count": 41,
   "id": "b528e5d5-6958-4918-b48b-e63eea9d3005",
   "metadata": {},
   "outputs": [
    {
     "name": "stdout",
     "output_type": "stream",
     "text": [
      "[[99 99 99 99]\n",
      " [11  2 12 19]\n",
      " [19  6 14 10]]\n"
     ]
    }
   ],
   "source": [
    "print(a)"
   ]
  },
  {
   "cell_type": "code",
   "execution_count": 42,
   "id": "71434c3b-d99f-4867-bf44-b91e40170b55",
   "metadata": {},
   "outputs": [],
   "source": [
    "a=np.random.randint(1,20,(4,5))"
   ]
  },
  {
   "cell_type": "code",
   "execution_count": 43,
   "id": "d078aacb-5f5d-4a52-97fb-e3b586da03f3",
   "metadata": {},
   "outputs": [
    {
     "data": {
      "text/plain": [
       "array([[ 1,  1,  4, 14,  3],\n",
       "       [10,  7, 19,  9, 10],\n",
       "       [ 5,  4,  8,  2,  9],\n",
       "       [14, 10,  6, 19,  4]])"
      ]
     },
     "execution_count": 43,
     "metadata": {},
     "output_type": "execute_result"
    }
   ],
   "source": [
    "a"
   ]
  },
  {
   "cell_type": "code",
   "execution_count": 44,
   "id": "9990da28-84b5-4e46-8557-cfb24dcfb063",
   "metadata": {},
   "outputs": [
    {
     "data": {
      "text/plain": [
       "array([ 1,  1,  4, 14,  3, 10,  7, 19,  9, 10,  5,  4,  8,  2,  9, 14, 10,\n",
       "        6, 19,  4])"
      ]
     },
     "execution_count": 44,
     "metadata": {},
     "output_type": "execute_result"
    }
   ],
   "source": [
    "a.ravel()"
   ]
  },
  {
   "cell_type": "code",
   "execution_count": 48,
   "id": "3783101d-40cd-4d5d-a4d0-20e22faa544b",
   "metadata": {},
   "outputs": [],
   "source": [
    "a[0]=123"
   ]
  },
  {
   "cell_type": "code",
   "execution_count": 49,
   "id": "90f0cc37-410b-453a-b260-a3ad4831f933",
   "metadata": {},
   "outputs": [
    {
     "data": {
      "text/plain": [
       "array([[123, 123, 123, 123, 123],\n",
       "       [ 10,   7,  19,   9,  10],\n",
       "       [  5,   4,   8,   2,   9],\n",
       "       [ 14,  10,   6,  19,   4]])"
      ]
     },
     "execution_count": 49,
     "metadata": {},
     "output_type": "execute_result"
    }
   ],
   "source": [
    "a"
   ]
  },
  {
   "cell_type": "code",
   "execution_count": 50,
   "id": "d4b3a1ea-e5f1-4810-ad63-2f332e25c03e",
   "metadata": {},
   "outputs": [
    {
     "data": {
      "text/plain": [
       "array([123, 123, 123, 123, 123,  10,   7,  19,   9,  10,   5,   4,   8,\n",
       "         2,   9,  14,  10,   6,  19,   4])"
      ]
     },
     "execution_count": 50,
     "metadata": {},
     "output_type": "execute_result"
    }
   ],
   "source": [
    "a.flatten()"
   ]
  },
  {
   "cell_type": "code",
   "execution_count": 51,
   "id": "57834b88-468b-4b8d-8d9c-982a005b60d4",
   "metadata": {},
   "outputs": [],
   "source": [
    "a[0]=333"
   ]
  },
  {
   "cell_type": "code",
   "execution_count": 52,
   "id": "23edba0e-5177-414a-8153-a98293c2287b",
   "metadata": {},
   "outputs": [
    {
     "data": {
      "text/plain": [
       "array([[333, 333, 333, 333, 333],\n",
       "       [ 10,   7,  19,   9,  10],\n",
       "       [  5,   4,   8,   2,   9],\n",
       "       [ 14,  10,   6,  19,   4]])"
      ]
     },
     "execution_count": 52,
     "metadata": {},
     "output_type": "execute_result"
    }
   ],
   "source": [
    "a"
   ]
  },
  {
   "cell_type": "code",
   "execution_count": 53,
   "id": "8367cb79-39fa-46d5-849a-edf3b2aaf47f",
   "metadata": {},
   "outputs": [],
   "source": [
    "p=a.flatten()"
   ]
  },
  {
   "cell_type": "code",
   "execution_count": 54,
   "id": "77761aca-9317-46ca-aec5-0bf60fbe6ec2",
   "metadata": {},
   "outputs": [
    {
     "data": {
      "text/plain": [
       "array([333, 333, 333, 333, 333,  10,   7,  19,   9,  10,   5,   4,   8,\n",
       "         2,   9,  14,  10,   6,  19,   4])"
      ]
     },
     "execution_count": 54,
     "metadata": {},
     "output_type": "execute_result"
    }
   ],
   "source": [
    "p"
   ]
  },
  {
   "cell_type": "code",
   "execution_count": 55,
   "id": "aa650d16-586c-488a-959e-e80342a0dbf9",
   "metadata": {},
   "outputs": [
    {
     "data": {
      "text/plain": [
       "array([[333, 333, 333, 333, 333],\n",
       "       [ 10,   7,  19,   9,  10],\n",
       "       [  5,   4,   8,   2,   9],\n",
       "       [ 14,  10,   6,  19,   4]])"
      ]
     },
     "execution_count": 55,
     "metadata": {},
     "output_type": "execute_result"
    }
   ],
   "source": [
    "a"
   ]
  },
  {
   "cell_type": "code",
   "execution_count": 57,
   "id": "9987e8e9-0b8f-46a4-93c1-6780c5fb4138",
   "metadata": {},
   "outputs": [],
   "source": [
    "k=np.random.randint(1,10,(2,3))"
   ]
  },
  {
   "cell_type": "code",
   "execution_count": 58,
   "id": "717f8a90-0475-4685-856c-6bd2a24eb377",
   "metadata": {},
   "outputs": [],
   "source": [
    "w=a.flatten()"
   ]
  },
  {
   "cell_type": "code",
   "execution_count": 59,
   "id": "3a155c2a-d8e2-4393-942e-466aec65feb3",
   "metadata": {},
   "outputs": [
    {
     "data": {
      "text/plain": [
       "array([333, 333, 333, 333, 333,  10,   7,  19,   9,  10,   5,   4,   8,\n",
       "         2,   9,  14,  10,   6,  19,   4])"
      ]
     },
     "execution_count": 59,
     "metadata": {},
     "output_type": "execute_result"
    }
   ],
   "source": [
    "w"
   ]
  },
  {
   "cell_type": "code",
   "execution_count": 60,
   "id": "6d857046-a82f-47a6-9d8f-6110ac93a6e2",
   "metadata": {},
   "outputs": [],
   "source": [
    "a[0]=0"
   ]
  },
  {
   "cell_type": "code",
   "execution_count": 61,
   "id": "73e82969-c0f9-44d8-a191-f93e26d9c37a",
   "metadata": {},
   "outputs": [
    {
     "data": {
      "text/plain": [
       "array([333, 333, 333, 333, 333,  10,   7,  19,   9,  10,   5,   4,   8,\n",
       "         2,   9,  14,  10,   6,  19,   4])"
      ]
     },
     "execution_count": 61,
     "metadata": {},
     "output_type": "execute_result"
    }
   ],
   "source": [
    "w"
   ]
  },
  {
   "cell_type": "code",
   "execution_count": 62,
   "id": "f5978ef6-1c2f-4f50-a5fc-126f969462b6",
   "metadata": {},
   "outputs": [],
   "source": [
    "k[0]=999"
   ]
  },
  {
   "cell_type": "code",
   "execution_count": 63,
   "id": "1342c345-e5f7-4584-9c95-64a4bd30045a",
   "metadata": {},
   "outputs": [
    {
     "data": {
      "text/plain": [
       "array([333, 333, 333, 333, 333,  10,   7,  19,   9,  10,   5,   4,   8,\n",
       "         2,   9,  14,  10,   6,  19,   4])"
      ]
     },
     "execution_count": 63,
     "metadata": {},
     "output_type": "execute_result"
    }
   ],
   "source": [
    "w"
   ]
  },
  {
   "cell_type": "code",
   "execution_count": 64,
   "id": "3de2313a-734f-4f16-87ee-1f6f75f95462",
   "metadata": {},
   "outputs": [
    {
     "data": {
      "text/plain": [
       "array([[999, 999, 999],\n",
       "       [  7,   4,   8]])"
      ]
     },
     "execution_count": 64,
     "metadata": {},
     "output_type": "execute_result"
    }
   ],
   "source": [
    "k"
   ]
  },
  {
   "cell_type": "code",
   "execution_count": 65,
   "id": "336cc02b-d818-4ee6-ba31-97ca2ff30e60",
   "metadata": {},
   "outputs": [
    {
     "data": {
      "text/plain": [
       "array([999, 999, 999,   7,   4,   8])"
      ]
     },
     "execution_count": 65,
     "metadata": {},
     "output_type": "execute_result"
    }
   ],
   "source": [
    "k.flatten()"
   ]
  },
  {
   "cell_type": "code",
   "execution_count": 66,
   "id": "8a4cbe95-1132-4bd5-9a00-545ac2e166f9",
   "metadata": {},
   "outputs": [],
   "source": [
    "k[0]=888"
   ]
  },
  {
   "cell_type": "code",
   "execution_count": 67,
   "id": "685d0f41-e744-4ce3-bf5c-e1be6d1fecdd",
   "metadata": {},
   "outputs": [
    {
     "data": {
      "text/plain": [
       "array([[888, 888, 888],\n",
       "       [  7,   4,   8]])"
      ]
     },
     "execution_count": 67,
     "metadata": {},
     "output_type": "execute_result"
    }
   ],
   "source": [
    "k"
   ]
  },
  {
   "cell_type": "code",
   "execution_count": 68,
   "id": "0ad2eae5-990c-432b-9892-8e1bb78de046",
   "metadata": {},
   "outputs": [],
   "source": [
    "l=k.flatten()"
   ]
  },
  {
   "cell_type": "code",
   "execution_count": 69,
   "id": "b816028d-be7e-43c2-bc7a-583c5bea4203",
   "metadata": {},
   "outputs": [
    {
     "data": {
      "text/plain": [
       "array([888, 888, 888,   7,   4,   8])"
      ]
     },
     "execution_count": 69,
     "metadata": {},
     "output_type": "execute_result"
    }
   ],
   "source": [
    "l"
   ]
  },
  {
   "cell_type": "code",
   "execution_count": 70,
   "id": "b32e1104-ac07-4d2d-94e5-3a2800c59464",
   "metadata": {},
   "outputs": [
    {
     "data": {
      "text/plain": [
       "array([[888, 888, 888],\n",
       "       [  7,   4,   8]])"
      ]
     },
     "execution_count": 70,
     "metadata": {},
     "output_type": "execute_result"
    }
   ],
   "source": [
    "k"
   ]
  },
  {
   "cell_type": "code",
   "execution_count": 71,
   "id": "37ac5a75-a703-47fc-9bfc-240bcb1c7e11",
   "metadata": {},
   "outputs": [],
   "source": [
    "d=np.random.randint(1,10,(2,3))"
   ]
  },
  {
   "cell_type": "code",
   "execution_count": 72,
   "id": "b426527c-54da-4a7f-99cb-58d7dc211abb",
   "metadata": {},
   "outputs": [
    {
     "data": {
      "text/plain": [
       "array([[2, 8, 7],\n",
       "       [8, 3, 5]])"
      ]
     },
     "execution_count": 72,
     "metadata": {},
     "output_type": "execute_result"
    }
   ],
   "source": [
    "d"
   ]
  },
  {
   "cell_type": "code",
   "execution_count": 73,
   "id": "7622f2ee-c075-4215-8c7e-78efc0f13579",
   "metadata": {},
   "outputs": [],
   "source": [
    "h=np.ravel(d)"
   ]
  },
  {
   "cell_type": "code",
   "execution_count": 74,
   "id": "39994df9-56db-4cfb-9d83-17c1432397ce",
   "metadata": {},
   "outputs": [
    {
     "data": {
      "text/plain": [
       "array([2, 8, 7, 8, 3, 5])"
      ]
     },
     "execution_count": 74,
     "metadata": {},
     "output_type": "execute_result"
    }
   ],
   "source": [
    "h"
   ]
  },
  {
   "cell_type": "code",
   "execution_count": 75,
   "id": "73bb24dc-66fa-45da-a847-e67d4d80f939",
   "metadata": {},
   "outputs": [],
   "source": [
    "d[0]=0"
   ]
  },
  {
   "cell_type": "code",
   "execution_count": 76,
   "id": "10ba0e50-e171-4313-aac1-f066eff6fcf7",
   "metadata": {},
   "outputs": [
    {
     "data": {
      "text/plain": [
       "array([0, 0, 0, 8, 3, 5])"
      ]
     },
     "execution_count": 76,
     "metadata": {},
     "output_type": "execute_result"
    }
   ],
   "source": [
    "h"
   ]
  },
  {
   "cell_type": "code",
   "execution_count": 77,
   "id": "3cb2062a-cfc3-40d7-8512-8b60ef02c4e6",
   "metadata": {},
   "outputs": [
    {
     "data": {
      "text/plain": [
       "array([[0, 0, 0],\n",
       "       [8, 3, 5]])"
      ]
     },
     "execution_count": 77,
     "metadata": {},
     "output_type": "execute_result"
    }
   ],
   "source": [
    "d"
   ]
  },
  {
   "cell_type": "code",
   "execution_count": 79,
   "id": "13301ab9-48b1-4a63-935f-1b6dfdca1f3c",
   "metadata": {},
   "outputs": [],
   "source": [
    "q=d.flatten()"
   ]
  },
  {
   "cell_type": "code",
   "execution_count": 80,
   "id": "6ed41dc1-fc1b-4b9a-9178-ffc2eee05cf5",
   "metadata": {},
   "outputs": [
    {
     "data": {
      "text/plain": [
       "array([0, 0, 0, 8, 3, 5])"
      ]
     },
     "execution_count": 80,
     "metadata": {},
     "output_type": "execute_result"
    }
   ],
   "source": [
    "q"
   ]
  },
  {
   "cell_type": "code",
   "execution_count": 81,
   "id": "477b3aa7-82c7-43d6-90d3-b7ae5ff80433",
   "metadata": {},
   "outputs": [],
   "source": [
    "d[0]=88888"
   ]
  },
  {
   "cell_type": "code",
   "execution_count": 82,
   "id": "9bdb8378-7e58-41f6-9765-1e71b769552b",
   "metadata": {},
   "outputs": [
    {
     "data": {
      "text/plain": [
       "array([0, 0, 0, 8, 3, 5])"
      ]
     },
     "execution_count": 82,
     "metadata": {},
     "output_type": "execute_result"
    }
   ],
   "source": [
    "q"
   ]
  },
  {
   "cell_type": "code",
   "execution_count": 83,
   "id": "650e237d-0868-4f57-a98c-1d3c590b6d3a",
   "metadata": {},
   "outputs": [],
   "source": [
    "f=np.random.randint(1,10,(2,3))"
   ]
  },
  {
   "cell_type": "code",
   "execution_count": 84,
   "id": "401796f9-0ec7-4858-a54c-bf850a572344",
   "metadata": {},
   "outputs": [
    {
     "data": {
      "text/plain": [
       "array([[8, 6, 7],\n",
       "       [9, 8, 7]])"
      ]
     },
     "execution_count": 84,
     "metadata": {},
     "output_type": "execute_result"
    }
   ],
   "source": [
    "f"
   ]
  },
  {
   "cell_type": "code",
   "execution_count": 85,
   "id": "55532f27-2214-4e45-a793-0930ad754ce2",
   "metadata": {},
   "outputs": [],
   "source": [
    "ss=f.flatten()"
   ]
  },
  {
   "cell_type": "code",
   "execution_count": 86,
   "id": "437bfaff-1f77-4435-8c62-14aedb9d8b71",
   "metadata": {},
   "outputs": [
    {
     "data": {
      "text/plain": [
       "array([8, 6, 7, 9, 8, 7])"
      ]
     },
     "execution_count": 86,
     "metadata": {},
     "output_type": "execute_result"
    }
   ],
   "source": [
    "ss"
   ]
  },
  {
   "cell_type": "code",
   "execution_count": 87,
   "id": "1a631e26-f685-4ef5-998f-e8989fe376a2",
   "metadata": {},
   "outputs": [],
   "source": [
    "f[0]=0"
   ]
  },
  {
   "cell_type": "code",
   "execution_count": 88,
   "id": "1b7673bf-05fa-4568-93e6-ad331db35efc",
   "metadata": {},
   "outputs": [
    {
     "data": {
      "text/plain": [
       "array([8, 6, 7, 9, 8, 7])"
      ]
     },
     "execution_count": 88,
     "metadata": {},
     "output_type": "execute_result"
    }
   ],
   "source": [
    "ss"
   ]
  },
  {
   "cell_type": "code",
   "execution_count": 89,
   "id": "9641a502-50a0-4712-a7f6-db1af055b8af",
   "metadata": {},
   "outputs": [],
   "source": [
    "f[0]=99"
   ]
  },
  {
   "cell_type": "code",
   "execution_count": 90,
   "id": "956ee0fb-55ac-4a33-8a8c-ef5dadd75805",
   "metadata": {},
   "outputs": [
    {
     "data": {
      "text/plain": [
       "array([8, 6, 7, 9, 8, 7])"
      ]
     },
     "execution_count": 90,
     "metadata": {},
     "output_type": "execute_result"
    }
   ],
   "source": [
    "ss"
   ]
  },
  {
   "cell_type": "code",
   "execution_count": 91,
   "id": "17201523-7078-4cec-b4aa-ec9b3980c9ee",
   "metadata": {},
   "outputs": [],
   "source": [
    "ss[0]=999"
   ]
  },
  {
   "cell_type": "code",
   "execution_count": 92,
   "id": "d4e47fb2-87c1-43ac-bd67-83c9d6eeb200",
   "metadata": {},
   "outputs": [
    {
     "data": {
      "text/plain": [
       "array([999,   6,   7,   9,   8,   7])"
      ]
     },
     "execution_count": 92,
     "metadata": {},
     "output_type": "execute_result"
    }
   ],
   "source": [
    "ss"
   ]
  },
  {
   "cell_type": "code",
   "execution_count": 93,
   "id": "37904b1b-1df1-4f52-a5c3-c79e14ad4d4a",
   "metadata": {},
   "outputs": [
    {
     "data": {
      "text/plain": [
       "array([[99, 99, 99],\n",
       "       [ 9,  8,  7]])"
      ]
     },
     "execution_count": 93,
     "metadata": {},
     "output_type": "execute_result"
    }
   ],
   "source": [
    "f"
   ]
  },
  {
   "cell_type": "markdown",
   "id": "0d63d8c4-99ae-4a83-8fb1-9cbf8eb8fcfc",
   "metadata": {},
   "source": [
    "#defining array shape"
   ]
  },
  {
   "cell_type": "code",
   "execution_count": 94,
   "id": "1d64a86c-cd4d-4372-89f1-57edb638dadb",
   "metadata": {},
   "outputs": [
    {
     "data": {
      "text/plain": [
       "array([[99, 99, 99],\n",
       "       [ 9,  8,  7]])"
      ]
     },
     "execution_count": 94,
     "metadata": {},
     "output_type": "execute_result"
    }
   ],
   "source": [
    "f"
   ]
  },
  {
   "cell_type": "code",
   "execution_count": 95,
   "id": "7ddd65b5-5434-42fd-8541-1be34b902bd5",
   "metadata": {},
   "outputs": [
    {
     "data": {
      "text/plain": [
       "(2, 3)"
      ]
     },
     "execution_count": 95,
     "metadata": {},
     "output_type": "execute_result"
    }
   ],
   "source": [
    "f.shape"
   ]
  },
  {
   "cell_type": "code",
   "execution_count": 96,
   "id": "c3e56684-8cbb-4357-9a62-133188c44177",
   "metadata": {},
   "outputs": [],
   "source": [
    "f.shape=(3,2)"
   ]
  },
  {
   "cell_type": "code",
   "execution_count": 97,
   "id": "c4c2452a-9273-4fff-9172-c208deb2e34e",
   "metadata": {},
   "outputs": [
    {
     "data": {
      "text/plain": [
       "array([[99, 99],\n",
       "       [99,  9],\n",
       "       [ 8,  7]])"
      ]
     },
     "execution_count": 97,
     "metadata": {},
     "output_type": "execute_result"
    }
   ],
   "source": [
    "f"
   ]
  },
  {
   "cell_type": "code",
   "execution_count": 98,
   "id": "a3a48f75-674d-4921-858a-0b3829fc85f3",
   "metadata": {},
   "outputs": [],
   "source": [
    "x=np.arange(1,10).reshape(3,3)"
   ]
  },
  {
   "cell_type": "code",
   "execution_count": 99,
   "id": "834355b5-5db3-4d36-a119-f485c6cf25bf",
   "metadata": {},
   "outputs": [
    {
     "data": {
      "text/plain": [
       "array([[1, 2, 3],\n",
       "       [4, 5, 6],\n",
       "       [7, 8, 9]])"
      ]
     },
     "execution_count": 99,
     "metadata": {},
     "output_type": "execute_result"
    }
   ],
   "source": [
    "x"
   ]
  },
  {
   "cell_type": "code",
   "execution_count": 100,
   "id": "86d65402-cf63-4fea-8acb-b39993dae1f4",
   "metadata": {},
   "outputs": [],
   "source": [
    "y=2*x"
   ]
  },
  {
   "cell_type": "code",
   "execution_count": 101,
   "id": "9fffb434-6541-4951-9109-177c1a50d150",
   "metadata": {},
   "outputs": [
    {
     "data": {
      "text/plain": [
       "array([[ 2,  4,  6],\n",
       "       [ 8, 10, 12],\n",
       "       [14, 16, 18]])"
      ]
     },
     "execution_count": 101,
     "metadata": {},
     "output_type": "execute_result"
    }
   ],
   "source": [
    "y"
   ]
  },
  {
   "cell_type": "code",
   "execution_count": 103,
   "id": "272c1d83-cfe4-4251-9e91-ea6c0e12da94",
   "metadata": {},
   "outputs": [
    {
     "data": {
      "text/plain": [
       "array([[ 1,  2,  3,  2,  4,  6],\n",
       "       [ 4,  5,  6,  8, 10, 12],\n",
       "       [ 7,  8,  9, 14, 16, 18]])"
      ]
     },
     "execution_count": 103,
     "metadata": {},
     "output_type": "execute_result"
    }
   ],
   "source": [
    "np.hstack((x,y))"
   ]
  },
  {
   "cell_type": "code",
   "execution_count": 104,
   "id": "77a564bb-c73b-40c5-8a1c-e0861bbc9944",
   "metadata": {},
   "outputs": [
    {
     "data": {
      "text/plain": [
       "array([[ 1,  2,  3,  2,  4,  6],\n",
       "       [ 4,  5,  6,  8, 10, 12],\n",
       "       [ 7,  8,  9, 14, 16, 18]])"
      ]
     },
     "execution_count": 104,
     "metadata": {},
     "output_type": "execute_result"
    }
   ],
   "source": [
    "np.column_stack((x,y))"
   ]
  },
  {
   "cell_type": "code",
   "execution_count": 109,
   "id": "60e94b13-d7fe-4364-b7a5-be06942241a0",
   "metadata": {},
   "outputs": [
    {
     "data": {
      "text/plain": [
       "array([[ 1,  2,  3,  2,  4,  6],\n",
       "       [ 4,  5,  6,  8, 10, 12],\n",
       "       [ 7,  8,  9, 14, 16, 18]])"
      ]
     },
     "execution_count": 109,
     "metadata": {},
     "output_type": "execute_result"
    }
   ],
   "source": [
    "np.concatenate((x,y),axis=1)"
   ]
  },
  {
   "cell_type": "code",
   "execution_count": 110,
   "id": "f9947a08-d64d-4fa8-a249-a3c4acfc85c9",
   "metadata": {},
   "outputs": [
    {
     "data": {
      "text/plain": [
       "array([[ 1,  2,  3],\n",
       "       [ 4,  5,  6],\n",
       "       [ 7,  8,  9],\n",
       "       [ 2,  4,  6],\n",
       "       [ 8, 10, 12],\n",
       "       [14, 16, 18]])"
      ]
     },
     "execution_count": 110,
     "metadata": {},
     "output_type": "execute_result"
    }
   ],
   "source": [
    "np.vstack((x,y))"
   ]
  },
  {
   "cell_type": "code",
   "execution_count": 112,
   "id": "5da6c568-1a3c-4468-8489-68cfa76a0618",
   "metadata": {},
   "outputs": [
    {
     "data": {
      "text/plain": [
       "array([[ 1,  2,  3],\n",
       "       [ 4,  5,  6],\n",
       "       [ 7,  8,  9],\n",
       "       [ 2,  4,  6],\n",
       "       [ 8, 10, 12],\n",
       "       [14, 16, 18]])"
      ]
     },
     "execution_count": 112,
     "metadata": {},
     "output_type": "execute_result"
    }
   ],
   "source": [
    "np.row_stack((x,y))"
   ]
  },
  {
   "cell_type": "code",
   "execution_count": 113,
   "id": "7b8198c2-9ed0-4e4d-92d9-b06e3ab27e1a",
   "metadata": {},
   "outputs": [
    {
     "data": {
      "text/plain": [
       "array([[ 1,  2,  3],\n",
       "       [ 4,  5,  6],\n",
       "       [ 7,  8,  9],\n",
       "       [ 2,  4,  6],\n",
       "       [ 8, 10, 12],\n",
       "       [14, 16, 18]])"
      ]
     },
     "execution_count": 113,
     "metadata": {},
     "output_type": "execute_result"
    }
   ],
   "source": [
    "np.concatenate((x,y),axis=0)"
   ]
  },
  {
   "cell_type": "code",
   "execution_count": 114,
   "id": "b7a68ef8-460d-4599-8743-80605c26491e",
   "metadata": {},
   "outputs": [
    {
     "data": {
      "text/plain": [
       "array([[[ 1,  2],\n",
       "        [ 2,  4],\n",
       "        [ 3,  6]],\n",
       "\n",
       "       [[ 4,  8],\n",
       "        [ 5, 10],\n",
       "        [ 6, 12]],\n",
       "\n",
       "       [[ 7, 14],\n",
       "        [ 8, 16],\n",
       "        [ 9, 18]]])"
      ]
     },
     "execution_count": 114,
     "metadata": {},
     "output_type": "execute_result"
    }
   ],
   "source": [
    "np.dstack((x,y))"
   ]
  },
  {
   "cell_type": "code",
   "execution_count": 115,
   "id": "231337e7-e195-452e-86ab-cfffe3823e43",
   "metadata": {},
   "outputs": [],
   "source": [
    "ar=np.array([1,2,3,4,5])"
   ]
  },
  {
   "cell_type": "code",
   "execution_count": 116,
   "id": "08ee12ce-a634-4d76-b017-92d274110e28",
   "metadata": {},
   "outputs": [
    {
     "data": {
      "text/plain": [
       "array([1, 2, 3, 4, 5])"
      ]
     },
     "execution_count": 116,
     "metadata": {},
     "output_type": "execute_result"
    }
   ],
   "source": [
    "ar"
   ]
  },
  {
   "cell_type": "code",
   "execution_count": 117,
   "id": "c041aadf-fa55-484e-9d0f-65647308988d",
   "metadata": {},
   "outputs": [],
   "source": [
    "ss=np.mean(ar)"
   ]
  },
  {
   "cell_type": "code",
   "execution_count": 118,
   "id": "cd1ce43d-eee8-423a-bc64-febdc0d570a0",
   "metadata": {},
   "outputs": [
    {
     "data": {
      "text/plain": [
       "3.0"
      ]
     },
     "execution_count": 118,
     "metadata": {},
     "output_type": "execute_result"
    }
   ],
   "source": [
    "ss"
   ]
  },
  {
   "cell_type": "code",
   "execution_count": 119,
   "id": "274ab598-b0ba-49f3-a97d-c077662341ed",
   "metadata": {},
   "outputs": [],
   "source": [
    "a=np.array([1,2,3,4,5,6])"
   ]
  },
  {
   "cell_type": "code",
   "execution_count": 120,
   "id": "f2945488-61ac-4967-9b0b-6134b67634c2",
   "metadata": {},
   "outputs": [
    {
     "data": {
      "text/plain": [
       "array([1, 2, 3, 4, 5, 6])"
      ]
     },
     "execution_count": 120,
     "metadata": {},
     "output_type": "execute_result"
    }
   ],
   "source": [
    "a"
   ]
  },
  {
   "cell_type": "code",
   "execution_count": 121,
   "id": "4e50bc14-ee6b-4518-850f-12b895ad2aa7",
   "metadata": {},
   "outputs": [
    {
     "data": {
      "text/plain": [
       "3.5"
      ]
     },
     "execution_count": 121,
     "metadata": {},
     "output_type": "execute_result"
    }
   ],
   "source": [
    "np.mean(a)"
   ]
  },
  {
   "cell_type": "code",
   "execution_count": 122,
   "id": "02d96249-d8cc-4954-8a1b-97e3ffb14bef",
   "metadata": {},
   "outputs": [
    {
     "data": {
      "text/plain": [
       "21"
      ]
     },
     "execution_count": 122,
     "metadata": {},
     "output_type": "execute_result"
    }
   ],
   "source": [
    "np.sum(a)"
   ]
  },
  {
   "cell_type": "code",
   "execution_count": 123,
   "id": "6486b6c3-d047-4794-98f3-c01f31a477a9",
   "metadata": {},
   "outputs": [
    {
     "data": {
      "text/plain": [
       "1.707825127659933"
      ]
     },
     "execution_count": 123,
     "metadata": {},
     "output_type": "execute_result"
    }
   ],
   "source": [
    "np.std(a)"
   ]
  },
  {
   "cell_type": "code",
   "execution_count": 124,
   "id": "217cd323-82f1-4bb3-ba2f-7b9cea67dea3",
   "metadata": {},
   "outputs": [
    {
     "data": {
      "text/plain": [
       "3.5"
      ]
     },
     "execution_count": 124,
     "metadata": {},
     "output_type": "execute_result"
    }
   ],
   "source": [
    "np.median(a)"
   ]
  },
  {
   "cell_type": "code",
   "execution_count": 125,
   "id": "1529513f-6ef6-4e06-9c8d-bdbc613b5681",
   "metadata": {},
   "outputs": [
    {
     "data": {
      "text/plain": [
       "1.707825127659933"
      ]
     },
     "execution_count": 125,
     "metadata": {},
     "output_type": "execute_result"
    }
   ],
   "source": [
    "np.std(a)"
   ]
  },
  {
   "cell_type": "code",
   "execution_count": 126,
   "id": "e69acd6a-9d00-4e63-9277-6ad34ae20e77",
   "metadata": {},
   "outputs": [
    {
     "data": {
      "text/plain": [
       "1"
      ]
     },
     "execution_count": 126,
     "metadata": {},
     "output_type": "execute_result"
    }
   ],
   "source": [
    "np.min(a)"
   ]
  },
  {
   "cell_type": "code",
   "execution_count": 127,
   "id": "4b117868-6f26-4848-bdd3-47a10b6145ed",
   "metadata": {},
   "outputs": [
    {
     "data": {
      "text/plain": [
       "6"
      ]
     },
     "execution_count": 127,
     "metadata": {},
     "output_type": "execute_result"
    }
   ],
   "source": [
    "np.max(a)"
   ]
  },
  {
   "cell_type": "code",
   "execution_count": 128,
   "id": "651ce691-39a6-4770-8835-eda0d769fef5",
   "metadata": {},
   "outputs": [
    {
     "data": {
      "text/plain": [
       "0"
      ]
     },
     "execution_count": 128,
     "metadata": {},
     "output_type": "execute_result"
    }
   ],
   "source": [
    "np.argmin(a)"
   ]
  },
  {
   "cell_type": "code",
   "execution_count": 129,
   "id": "322e9a46-d49b-40b7-b5d5-5cc559f257dc",
   "metadata": {},
   "outputs": [
    {
     "data": {
      "text/plain": [
       "5"
      ]
     },
     "execution_count": 129,
     "metadata": {},
     "output_type": "execute_result"
    }
   ],
   "source": [
    "np.argmax(a)"
   ]
  },
  {
   "cell_type": "code",
   "execution_count": 131,
   "id": "b53c3bd8-eb73-4907-bce8-110d4d8a9f84",
   "metadata": {},
   "outputs": [],
   "source": [
    "a=np.array([[1,2,3],[4,5,6]])"
   ]
  },
  {
   "cell_type": "code",
   "execution_count": 132,
   "id": "97f7c8d7-b3cb-4413-9289-0d0dcfd4b6c4",
   "metadata": {},
   "outputs": [
    {
     "data": {
      "text/plain": [
       "array([[1, 2, 3],\n",
       "       [4, 5, 6]])"
      ]
     },
     "execution_count": 132,
     "metadata": {},
     "output_type": "execute_result"
    }
   ],
   "source": [
    "a"
   ]
  },
  {
   "cell_type": "code",
   "execution_count": 133,
   "id": "247c5509-01f5-4e2d-80b0-04d289a87b42",
   "metadata": {},
   "outputs": [
    {
     "data": {
      "text/plain": [
       "array([5, 7, 9])"
      ]
     },
     "execution_count": 133,
     "metadata": {},
     "output_type": "execute_result"
    }
   ],
   "source": [
    "np.sum(a,axis=0)"
   ]
  },
  {
   "cell_type": "code",
   "execution_count": 134,
   "id": "9d8f68fc-b0e3-4ef9-8b5d-669bfa528cbd",
   "metadata": {},
   "outputs": [
    {
     "data": {
      "text/plain": [
       "array([ 6, 15])"
      ]
     },
     "execution_count": 134,
     "metadata": {},
     "output_type": "execute_result"
    }
   ],
   "source": [
    "np.sum(a,axis=1)"
   ]
  },
  {
   "cell_type": "code",
   "execution_count": 136,
   "id": "48d024ae-05ac-4c3c-a801-356deaf8fba3",
   "metadata": {},
   "outputs": [],
   "source": [
    "ass=np.array([2,4,6,8])"
   ]
  },
  {
   "cell_type": "code",
   "execution_count": 137,
   "id": "349ad458-2424-4127-a7d1-0bc8ba85b4c4",
   "metadata": {},
   "outputs": [
    {
     "data": {
      "text/plain": [
       "array([2, 4, 6, 8])"
      ]
     },
     "execution_count": 137,
     "metadata": {},
     "output_type": "execute_result"
    }
   ],
   "source": [
    "ass"
   ]
  },
  {
   "cell_type": "code",
   "execution_count": 139,
   "id": "3a490a16-9bc5-4b9d-8365-f104d6dc7dc5",
   "metadata": {},
   "outputs": [
    {
     "data": {
      "text/plain": [
       "5.0"
      ]
     },
     "execution_count": 139,
     "metadata": {},
     "output_type": "execute_result"
    }
   ],
   "source": [
    "np.mean(ass)"
   ]
  },
  {
   "cell_type": "code",
   "execution_count": 140,
   "id": "478589a3-7b86-402d-9893-af285fbd51f7",
   "metadata": {},
   "outputs": [
    {
     "data": {
      "text/plain": [
       "5.0"
      ]
     },
     "execution_count": 140,
     "metadata": {},
     "output_type": "execute_result"
    }
   ],
   "source": [
    "np.var(ass)"
   ]
  },
  {
   "cell_type": "code",
   "execution_count": 141,
   "id": "d491a1e7-ecb4-4cd2-9c74-65dbf28d0edb",
   "metadata": {},
   "outputs": [
    {
     "data": {
      "text/plain": [
       "2.23606797749979"
      ]
     },
     "execution_count": 141,
     "metadata": {},
     "output_type": "execute_result"
    }
   ],
   "source": [
    "np.std(ass)"
   ]
  },
  {
   "cell_type": "code",
   "execution_count": 142,
   "id": "5f6c13ff-5637-4df9-bd30-59c934310677",
   "metadata": {},
   "outputs": [],
   "source": [
    "ad=np.array([1,2,3,4,5])\n"
   ]
  },
  {
   "cell_type": "code",
   "execution_count": 143,
   "id": "d242f535-ad46-4c0c-afe0-ed801b953e25",
   "metadata": {},
   "outputs": [
    {
     "data": {
      "text/plain": [
       "array([11, 12, 13, 14, 15])"
      ]
     },
     "execution_count": 143,
     "metadata": {},
     "output_type": "execute_result"
    }
   ],
   "source": [
    "ad+10"
   ]
  },
  {
   "cell_type": "code",
   "execution_count": 144,
   "id": "bf0ead03-ca66-4827-9388-7da3c97f4b14",
   "metadata": {},
   "outputs": [
    {
     "data": {
      "text/plain": [
       "array([ 5, 10, 15, 20, 25])"
      ]
     },
     "execution_count": 144,
     "metadata": {},
     "output_type": "execute_result"
    }
   ],
   "source": [
    "ad*5"
   ]
  },
  {
   "cell_type": "code",
   "execution_count": 145,
   "id": "347d06c4-99af-49d4-a581-5f6e114bd573",
   "metadata": {},
   "outputs": [],
   "source": [
    "dd=np.random.randint(1,10,(2,3))"
   ]
  },
  {
   "cell_type": "code",
   "execution_count": 146,
   "id": "55373502-5cea-4e38-a3a0-0d18d274fcdd",
   "metadata": {},
   "outputs": [
    {
     "data": {
      "text/plain": [
       "array([[6, 5, 1],\n",
       "       [1, 3, 4]])"
      ]
     },
     "execution_count": 146,
     "metadata": {},
     "output_type": "execute_result"
    }
   ],
   "source": [
    "dd"
   ]
  },
  {
   "cell_type": "code",
   "execution_count": 147,
   "id": "8f609299-d788-406e-bf1d-37b7f2be312a",
   "metadata": {},
   "outputs": [],
   "source": [
    "df=dd*2"
   ]
  },
  {
   "cell_type": "code",
   "execution_count": 148,
   "id": "0cea9280-cde3-456c-9d6d-f00220bef441",
   "metadata": {},
   "outputs": [
    {
     "data": {
      "text/plain": [
       "array([[12, 10,  2],\n",
       "       [ 2,  6,  8]])"
      ]
     },
     "execution_count": 148,
     "metadata": {},
     "output_type": "execute_result"
    }
   ],
   "source": [
    "df"
   ]
  },
  {
   "cell_type": "code",
   "execution_count": 150,
   "id": "ab7907dd-1949-4a3b-89c8-cc6104a77125",
   "metadata": {},
   "outputs": [],
   "source": [
    "dd.shape=(3,2)"
   ]
  },
  {
   "cell_type": "code",
   "execution_count": 151,
   "id": "c1cc36e6-cd1f-4e73-a470-54f0a1926824",
   "metadata": {},
   "outputs": [
    {
     "data": {
      "text/plain": [
       "array([[6, 5],\n",
       "       [1, 1],\n",
       "       [3, 4]])"
      ]
     },
     "execution_count": 151,
     "metadata": {},
     "output_type": "execute_result"
    }
   ],
   "source": [
    "dd"
   ]
  },
  {
   "cell_type": "code",
   "execution_count": 152,
   "id": "42bd5d66-3c49-40f2-972e-8ffbb55b7a4d",
   "metadata": {},
   "outputs": [],
   "source": [
    "ds=dd*2"
   ]
  },
  {
   "cell_type": "code",
   "execution_count": 153,
   "id": "64bb82a1-2249-4657-8ec3-2cf8c1b97a39",
   "metadata": {},
   "outputs": [
    {
     "data": {
      "text/plain": [
       "array([[12, 10],\n",
       "       [ 2,  2],\n",
       "       [ 6,  8]])"
      ]
     },
     "execution_count": 153,
     "metadata": {},
     "output_type": "execute_result"
    }
   ],
   "source": [
    "ds"
   ]
  },
  {
   "cell_type": "code",
   "execution_count": 155,
   "id": "4c11ee17-bfc5-470b-a9d1-bcb0e40bd0e4",
   "metadata": {},
   "outputs": [],
   "source": [
    "a=np.arange(1,10)"
   ]
  },
  {
   "cell_type": "code",
   "execution_count": 156,
   "id": "c3e08efc-86b8-46fb-9067-a670335d0136",
   "metadata": {},
   "outputs": [
    {
     "data": {
      "text/plain": [
       "array([1, 2, 3, 4, 5, 6, 7, 8, 9])"
      ]
     },
     "execution_count": 156,
     "metadata": {},
     "output_type": "execute_result"
    }
   ],
   "source": [
    "a"
   ]
  },
  {
   "cell_type": "code",
   "execution_count": 157,
   "id": "b0234d80-2d86-4748-8259-798e9bfab315",
   "metadata": {},
   "outputs": [],
   "source": [
    "a=np.random.randint(1,10,(2,2))"
   ]
  },
  {
   "cell_type": "code",
   "execution_count": 158,
   "id": "7b8c8d44-ba73-40a2-8b58-3469e4025b46",
   "metadata": {},
   "outputs": [
    {
     "data": {
      "text/plain": [
       "array([[5, 8],\n",
       "       [1, 4]])"
      ]
     },
     "execution_count": 158,
     "metadata": {},
     "output_type": "execute_result"
    }
   ],
   "source": [
    "a"
   ]
  },
  {
   "cell_type": "code",
   "execution_count": 159,
   "id": "aa3af8b6-2a33-4352-bbbd-52896b9757ab",
   "metadata": {},
   "outputs": [],
   "source": [
    "b=np.random.randint(3,9,(2,2))"
   ]
  },
  {
   "cell_type": "code",
   "execution_count": 160,
   "id": "5fd2d385-20e8-4b62-85db-15e0f6daa84c",
   "metadata": {},
   "outputs": [
    {
     "data": {
      "text/plain": [
       "array([[5, 6],\n",
       "       [5, 5]])"
      ]
     },
     "execution_count": 160,
     "metadata": {},
     "output_type": "execute_result"
    }
   ],
   "source": [
    "b"
   ]
  },
  {
   "cell_type": "code",
   "execution_count": 161,
   "id": "3e8c5463-42d8-4136-a30d-848de4ad57fb",
   "metadata": {},
   "outputs": [
    {
     "data": {
      "text/plain": [
       "array([[65, 70],\n",
       "       [25, 26]])"
      ]
     },
     "execution_count": 161,
     "metadata": {},
     "output_type": "execute_result"
    }
   ],
   "source": [
    "np.dot(a,b)"
   ]
  },
  {
   "cell_type": "code",
   "execution_count": 163,
   "id": "735f7e70-e828-40f1-85bb-a1c20dbd44bd",
   "metadata": {},
   "outputs": [],
   "source": [
    "z=np.array([[1,3],[5,7]])"
   ]
  },
  {
   "cell_type": "code",
   "execution_count": 164,
   "id": "5af07bf3-6272-4740-8087-806198c901b6",
   "metadata": {},
   "outputs": [
    {
     "data": {
      "text/plain": [
       "array([[1, 3],\n",
       "       [5, 7]])"
      ]
     },
     "execution_count": 164,
     "metadata": {},
     "output_type": "execute_result"
    }
   ],
   "source": [
    "z"
   ]
  },
  {
   "cell_type": "code",
   "execution_count": 165,
   "id": "819766de-f526-46c0-bbbd-78f544120025",
   "metadata": {},
   "outputs": [
    {
     "data": {
      "text/plain": [
       "array([[ 0.33333333, -0.66666667],\n",
       "       [-0.08333333,  0.41666667]])"
      ]
     },
     "execution_count": 165,
     "metadata": {},
     "output_type": "execute_result"
    }
   ],
   "source": [
    "np.linalg.inv(a)"
   ]
  },
  {
   "cell_type": "code",
   "execution_count": 166,
   "id": "ab024a2f-3cde-4574-a157-fffdcdb30c65",
   "metadata": {},
   "outputs": [],
   "source": [
    "m=np.linalg.inv(a)"
   ]
  },
  {
   "cell_type": "code",
   "execution_count": 167,
   "id": "08503a4f-1803-418a-8307-1d74b099d9e8",
   "metadata": {},
   "outputs": [
    {
     "data": {
      "text/plain": [
       "array([[ 0.33333333, -0.66666667],\n",
       "       [-0.08333333,  0.41666667]])"
      ]
     },
     "execution_count": 167,
     "metadata": {},
     "output_type": "execute_result"
    }
   ],
   "source": [
    "m"
   ]
  },
  {
   "cell_type": "code",
   "execution_count": 168,
   "id": "390f9ccb-0dd7-45d2-8795-8f5c2880ff46",
   "metadata": {},
   "outputs": [],
   "source": [
    "A = np.array([[1, 3], [5, 7]])\n"
   ]
  },
  {
   "cell_type": "code",
   "execution_count": 169,
   "id": "e7a40406-933d-46f4-b954-3715f713c981",
   "metadata": {},
   "outputs": [
    {
     "data": {
      "text/plain": [
       "array([[1, 3],\n",
       "       [5, 7]])"
      ]
     },
     "execution_count": 169,
     "metadata": {},
     "output_type": "execute_result"
    }
   ],
   "source": [
    "A"
   ]
  },
  {
   "cell_type": "code",
   "execution_count": 170,
   "id": "3f03d193-c495-43cb-8d45-b909ba62db5f",
   "metadata": {},
   "outputs": [],
   "source": [
    "inv_A = np.linalg.inv(A)"
   ]
  },
  {
   "cell_type": "code",
   "execution_count": 171,
   "id": "bb2d5134-fe15-42e1-b105-519e2fdb1092",
   "metadata": {},
   "outputs": [
    {
     "name": "stdout",
     "output_type": "stream",
     "text": [
      "[[-0.875  0.375]\n",
      " [ 0.625 -0.125]]\n"
     ]
    }
   ],
   "source": [
    "print(inv_A)\n"
   ]
  },
  {
   "cell_type": "code",
   "execution_count": 172,
   "id": "8e4d163e-51d3-4ffa-9452-99ba01dfcc3f",
   "metadata": {},
   "outputs": [
    {
     "data": {
      "text/plain": [
       "array([[-0.875,  0.375],\n",
       "       [ 0.625, -0.125]])"
      ]
     },
     "execution_count": 172,
     "metadata": {},
     "output_type": "execute_result"
    }
   ],
   "source": [
    "inv_A"
   ]
  },
  {
   "cell_type": "code",
   "execution_count": 173,
   "id": "bcde878d-34b6-4ab1-a1c5-500bf75d1a67",
   "metadata": {},
   "outputs": [],
   "source": [
    "a=np.array([[1,3],[5,7]])"
   ]
  },
  {
   "cell_type": "code",
   "execution_count": 174,
   "id": "3feee809-cb7a-412b-aea2-be038717858a",
   "metadata": {},
   "outputs": [
    {
     "data": {
      "text/plain": [
       "array([[1, 3],\n",
       "       [5, 7]])"
      ]
     },
     "execution_count": 174,
     "metadata": {},
     "output_type": "execute_result"
    }
   ],
   "source": [
    "a"
   ]
  },
  {
   "cell_type": "code",
   "execution_count": 175,
   "id": "0a7d148b-2402-49d6-8e4c-6c022d75b0a8",
   "metadata": {},
   "outputs": [
    {
     "data": {
      "text/plain": [
       "array([[-0.875,  0.375],\n",
       "       [ 0.625, -0.125]])"
      ]
     },
     "execution_count": 175,
     "metadata": {},
     "output_type": "execute_result"
    }
   ],
   "source": [
    "np.linalg.inv(a)"
   ]
  },
  {
   "cell_type": "code",
   "execution_count": 176,
   "id": "5e6dfc57-e21a-4d24-9c9d-5ed8328fbd76",
   "metadata": {},
   "outputs": [],
   "source": [
    "p=np.array([[2,0],[0,3]])"
   ]
  },
  {
   "cell_type": "code",
   "execution_count": 177,
   "id": "2df3518e-7aff-4d70-be16-6436e4d32489",
   "metadata": {},
   "outputs": [
    {
     "data": {
      "text/plain": [
       "array([[2, 0],\n",
       "       [0, 3]])"
      ]
     },
     "execution_count": 177,
     "metadata": {},
     "output_type": "execute_result"
    }
   ],
   "source": [
    "p"
   ]
  },
  {
   "cell_type": "code",
   "execution_count": 178,
   "id": "e618a3e4-831c-4d32-aa93-1b6fccff7dfd",
   "metadata": {},
   "outputs": [],
   "source": [
    "f,g=np.linalg.eig(p)"
   ]
  },
  {
   "cell_type": "code",
   "execution_count": 179,
   "id": "4bd9060c-21fc-4e54-a793-d3d22d529788",
   "metadata": {},
   "outputs": [
    {
     "data": {
      "text/plain": [
       "array([2., 3.])"
      ]
     },
     "execution_count": 179,
     "metadata": {},
     "output_type": "execute_result"
    }
   ],
   "source": [
    "f"
   ]
  },
  {
   "cell_type": "code",
   "execution_count": 180,
   "id": "7c16ffc0-e391-4b6d-80b7-9ce2123b1681",
   "metadata": {},
   "outputs": [
    {
     "data": {
      "text/plain": [
       "array([[1., 0.],\n",
       "       [0., 1.]])"
      ]
     },
     "execution_count": 180,
     "metadata": {},
     "output_type": "execute_result"
    }
   ],
   "source": [
    "g"
   ]
  },
  {
   "cell_type": "code",
   "execution_count": 181,
   "id": "4e0b965d-5489-4ecd-85ce-e6cac2830f1b",
   "metadata": {},
   "outputs": [
    {
     "name": "stdout",
     "output_type": "stream",
     "text": [
      "[2. 3.]\n"
     ]
    }
   ],
   "source": [
    "print(f)"
   ]
  },
  {
   "cell_type": "code",
   "execution_count": 182,
   "id": "b7fca508-899e-4da8-9e33-7466d868dc7b",
   "metadata": {},
   "outputs": [
    {
     "name": "stdout",
     "output_type": "stream",
     "text": [
      "[[1. 0.]\n",
      " [0. 1.]]\n"
     ]
    }
   ],
   "source": [
    "print(g)"
   ]
  },
  {
   "cell_type": "code",
   "execution_count": 183,
   "id": "541d9051-31f5-4e8a-8779-0cee25d8d104",
   "metadata": {},
   "outputs": [],
   "source": [
    "m=np.arange(1,10)"
   ]
  },
  {
   "cell_type": "code",
   "execution_count": 184,
   "id": "46864887-949f-4976-8553-6ff2f3b9358f",
   "metadata": {},
   "outputs": [
    {
     "data": {
      "text/plain": [
       "array([1, 2, 3, 4, 5, 6, 7, 8, 9])"
      ]
     },
     "execution_count": 184,
     "metadata": {},
     "output_type": "execute_result"
    }
   ],
   "source": [
    "m"
   ]
  },
  {
   "cell_type": "code",
   "execution_count": 186,
   "id": "080a25f8-9085-4869-bd9a-d8cf003c4636",
   "metadata": {},
   "outputs": [],
   "source": [
    "v=np.random.randint(1,23,(2,3))"
   ]
  },
  {
   "cell_type": "code",
   "execution_count": 187,
   "id": "137b4cb8-33d0-4c0d-9829-8adbc5955315",
   "metadata": {},
   "outputs": [
    {
     "data": {
      "text/plain": [
       "array([[12, 19, 17],\n",
       "       [ 3,  3,  5]])"
      ]
     },
     "execution_count": 187,
     "metadata": {},
     "output_type": "execute_result"
    }
   ],
   "source": [
    "v"
   ]
  },
  {
   "cell_type": "code",
   "execution_count": 188,
   "id": "62ae7295-c77f-4847-bd86-97902dcdd7bb",
   "metadata": {},
   "outputs": [
    {
     "data": {
      "text/plain": [
       "array([[12,  3],\n",
       "       [19,  3],\n",
       "       [17,  5]])"
      ]
     },
     "execution_count": 188,
     "metadata": {},
     "output_type": "execute_result"
    }
   ],
   "source": [
    "np.transpose(v)"
   ]
  },
  {
   "cell_type": "code",
   "execution_count": 190,
   "id": "0a26c9f2-c22e-469b-99fd-59cc594495fe",
   "metadata": {},
   "outputs": [],
   "source": [
    "l=np.random.randint(1,28,(3,3))"
   ]
  },
  {
   "cell_type": "code",
   "execution_count": 191,
   "id": "6b8cb768-89ec-4e66-8803-9e3517fc5acc",
   "metadata": {},
   "outputs": [
    {
     "data": {
      "text/plain": [
       "array([[15, 19, 10],\n",
       "       [ 1, 21, 19],\n",
       "       [ 4,  8,  2]])"
      ]
     },
     "execution_count": 191,
     "metadata": {},
     "output_type": "execute_result"
    }
   ],
   "source": [
    "l"
   ]
  },
  {
   "cell_type": "code",
   "execution_count": 192,
   "id": "d2421748-e4e5-4d92-87ba-b50ec00231b0",
   "metadata": {},
   "outputs": [
    {
     "data": {
      "text/plain": [
       "-1003.9999999999998"
      ]
     },
     "execution_count": 192,
     "metadata": {},
     "output_type": "execute_result"
    }
   ],
   "source": [
    "np.linalg.det(l)"
   ]
  },
  {
   "cell_type": "code",
   "execution_count": 193,
   "id": "b5f77216-eb47-448d-922c-eb043941272e",
   "metadata": {},
   "outputs": [],
   "source": [
    "m=l*2"
   ]
  },
  {
   "cell_type": "code",
   "execution_count": 194,
   "id": "ce02e63c-cf52-44d3-8838-d0d19b14960e",
   "metadata": {},
   "outputs": [
    {
     "data": {
      "text/plain": [
       "array([[30, 38, 20],\n",
       "       [ 2, 42, 38],\n",
       "       [ 8, 16,  4]])"
      ]
     },
     "execution_count": 194,
     "metadata": {},
     "output_type": "execute_result"
    }
   ],
   "source": [
    "m"
   ]
  },
  {
   "cell_type": "code",
   "execution_count": 195,
   "id": "b7ccc8fa-88d4-4fa8-b641-d81bc29aadd4",
   "metadata": {},
   "outputs": [
    {
     "data": {
      "text/plain": [
       "array([[ 568, 1528, 1062],\n",
       "       [ 224, 1224,  894],\n",
       "       [ 152,  520,  392]])"
      ]
     },
     "execution_count": 195,
     "metadata": {},
     "output_type": "execute_result"
    }
   ],
   "source": [
    "l @m"
   ]
  },
  {
   "cell_type": "code",
   "execution_count": 196,
   "id": "0d6da13c-b9c5-4cee-a9f6-af928e941f93",
   "metadata": {},
   "outputs": [
    {
     "data": {
      "text/plain": [
       "array([0.21776078, 0.65794655, 0.28575109])"
      ]
     },
     "execution_count": 196,
     "metadata": {},
     "output_type": "execute_result"
    }
   ],
   "source": [
    "np.random.rand(3)"
   ]
  },
  {
   "cell_type": "code",
   "execution_count": 197,
   "id": "a2b7b985-a4b2-4376-924d-7e6eda946df8",
   "metadata": {},
   "outputs": [
    {
     "data": {
      "text/plain": [
       "array([[0.67781659, 0.03735377],\n",
       "       [0.62935789, 0.06969861]])"
      ]
     },
     "execution_count": 197,
     "metadata": {},
     "output_type": "execute_result"
    }
   ],
   "source": [
    "np.random.rand(2,2)"
   ]
  },
  {
   "cell_type": "code",
   "execution_count": 198,
   "id": "ebd3dbcc-8e50-4aee-be42-349d3c1927eb",
   "metadata": {},
   "outputs": [
    {
     "data": {
      "text/plain": [
       "array([ 0.192382  , -0.41889406,  0.26465659])"
      ]
     },
     "execution_count": 198,
     "metadata": {},
     "output_type": "execute_result"
    }
   ],
   "source": [
    "np.random.randn(3)"
   ]
  },
  {
   "cell_type": "code",
   "execution_count": 199,
   "id": "2630f8c9-036c-4496-876d-37c0a83b531f",
   "metadata": {},
   "outputs": [],
   "source": [
    "b=np.random.randn(3)"
   ]
  },
  {
   "cell_type": "code",
   "execution_count": 200,
   "id": "eac45840-3504-42ac-843d-c92c784638cc",
   "metadata": {},
   "outputs": [
    {
     "data": {
      "text/plain": [
       "array([ 2.24393894, -1.3283158 ,  0.71977254])"
      ]
     },
     "execution_count": 200,
     "metadata": {},
     "output_type": "execute_result"
    }
   ],
   "source": [
    "b"
   ]
  },
  {
   "cell_type": "code",
   "execution_count": 201,
   "id": "91409de1-7390-4920-a2b0-700682720311",
   "metadata": {},
   "outputs": [
    {
     "data": {
      "text/plain": [
       "0.5451318909767574"
      ]
     },
     "execution_count": 201,
     "metadata": {},
     "output_type": "execute_result"
    }
   ],
   "source": [
    "np.mean(b)"
   ]
  },
  {
   "cell_type": "code",
   "execution_count": 202,
   "id": "aa95da73-f144-4f59-8503-42666427335c",
   "metadata": {},
   "outputs": [
    {
     "data": {
      "text/plain": [
       "1.4635858929891252"
      ]
     },
     "execution_count": 202,
     "metadata": {},
     "output_type": "execute_result"
    }
   ],
   "source": [
    "np.std(b)"
   ]
  },
  {
   "cell_type": "code",
   "execution_count": 206,
   "id": "5e987e5b-8023-4cdb-a37a-6e81447b8ba9",
   "metadata": {},
   "outputs": [],
   "source": [
    "np.random.seed(6)"
   ]
  },
  {
   "cell_type": "code",
   "execution_count": 207,
   "id": "5a258154-dff2-4561-af7a-42faf6bee87e",
   "metadata": {},
   "outputs": [
    {
     "name": "stdout",
     "output_type": "stream",
     "text": [
      "[0.89286015 0.33197981 0.82122912]\n"
     ]
    }
   ],
   "source": [
    "print(np.random.rand(3))"
   ]
  },
  {
   "cell_type": "code",
   "execution_count": 208,
   "id": "d456d047-23ca-4443-be0f-bfe83fda085b",
   "metadata": {},
   "outputs": [
    {
     "name": "stdout",
     "output_type": "stream",
     "text": [
      "[0.04169663 0.10765668 0.59505206 0.52981736 0.41880743 0.33540785\n",
      " 0.62251943 0.43814143 0.73588211 0.51803641]\n"
     ]
    }
   ],
   "source": [
    "print(np.random.rand(10))"
   ]
  },
  {
   "cell_type": "code",
   "execution_count": 209,
   "id": "dc640d8e-6d44-4247-ae6a-56b6df9a57a0",
   "metadata": {},
   "outputs": [],
   "source": [
    "np.random.seed(9)"
   ]
  },
  {
   "cell_type": "code",
   "execution_count": 210,
   "id": "4fbe74fe-27c0-4057-8d72-7dd4a63b6236",
   "metadata": {},
   "outputs": [
    {
     "name": "stdout",
     "output_type": "stream",
     "text": [
      "[0.01037415 0.50187459 0.49577329]\n"
     ]
    }
   ],
   "source": [
    "print(np.random.rand(3))"
   ]
  },
  {
   "cell_type": "code",
   "execution_count": 211,
   "id": "0a8aba9a-f9eb-48c6-b488-a3b58fb46cf8",
   "metadata": {},
   "outputs": [],
   "source": [
    "np.random.seed(0)"
   ]
  },
  {
   "cell_type": "code",
   "execution_count": 212,
   "id": "013cea8c-efc3-46da-b16d-c7a93388f960",
   "metadata": {},
   "outputs": [
    {
     "name": "stdout",
     "output_type": "stream",
     "text": [
      "[0.5488135  0.71518937 0.60276338]\n"
     ]
    }
   ],
   "source": [
    "print(np.random.rand(3))"
   ]
  },
  {
   "cell_type": "code",
   "execution_count": 213,
   "id": "0a1c3083-262d-4d89-a2b4-cd72a73f7970",
   "metadata": {},
   "outputs": [
    {
     "name": "stdout",
     "output_type": "stream",
     "text": [
      "[0.54488318 0.4236548  0.64589411]\n"
     ]
    }
   ],
   "source": [
    "print(np.random.rand(3))"
   ]
  },
  {
   "cell_type": "code",
   "execution_count": 214,
   "id": "bc5df26c-be28-49a3-9a17-f864e5f78f3f",
   "metadata": {},
   "outputs": [],
   "source": [
    "arr = np.array([10, 15, 20, 25, 30])"
   ]
  },
  {
   "cell_type": "code",
   "execution_count": 215,
   "id": "feb2e955-5022-47a0-9310-01f410dcf434",
   "metadata": {},
   "outputs": [
    {
     "data": {
      "text/plain": [
       "array([10, 15, 20, 25, 30])"
      ]
     },
     "execution_count": 215,
     "metadata": {},
     "output_type": "execute_result"
    }
   ],
   "source": [
    "arr"
   ]
  },
  {
   "cell_type": "code",
   "execution_count": 216,
   "id": "675c7476-7a4d-439c-8381-6235e4295088",
   "metadata": {},
   "outputs": [],
   "source": [
    "m=arr>20"
   ]
  },
  {
   "cell_type": "code",
   "execution_count": 217,
   "id": "2c124bcd-8532-4350-8b13-80651fe6f760",
   "metadata": {},
   "outputs": [
    {
     "data": {
      "text/plain": [
       "array([False, False, False,  True,  True])"
      ]
     },
     "execution_count": 217,
     "metadata": {},
     "output_type": "execute_result"
    }
   ],
   "source": [
    "m"
   ]
  },
  {
   "cell_type": "code",
   "execution_count": 218,
   "id": "8a1b9199-6466-4d17-8d54-daf8bebfd2a5",
   "metadata": {},
   "outputs": [
    {
     "data": {
      "text/plain": [
       "array([25, 30])"
      ]
     },
     "execution_count": 218,
     "metadata": {},
     "output_type": "execute_result"
    }
   ],
   "source": [
    "arr[m]"
   ]
  },
  {
   "cell_type": "code",
   "execution_count": 219,
   "id": "c7b269c8-40b6-4b98-83e4-76cec8e66b93",
   "metadata": {},
   "outputs": [],
   "source": [
    "x=arr[arr%2==0]"
   ]
  },
  {
   "cell_type": "code",
   "execution_count": 220,
   "id": "23f1c4a6-4136-4d38-b9cb-02030b0f1c51",
   "metadata": {},
   "outputs": [
    {
     "data": {
      "text/plain": [
       "array([10, 20, 30])"
      ]
     },
     "execution_count": 220,
     "metadata": {},
     "output_type": "execute_result"
    }
   ],
   "source": [
    "x"
   ]
  },
  {
   "cell_type": "code",
   "execution_count": 221,
   "id": "1b357733-fef7-4c85-8e9c-10da98c680f0",
   "metadata": {},
   "outputs": [],
   "source": [
    "l=arr[(arr>=10)&(arr<=20)]"
   ]
  },
  {
   "cell_type": "code",
   "execution_count": 222,
   "id": "d575a6b4-f18c-486a-86fc-5491dc1efab5",
   "metadata": {},
   "outputs": [
    {
     "data": {
      "text/plain": [
       "array([10, 15, 20])"
      ]
     },
     "execution_count": 222,
     "metadata": {},
     "output_type": "execute_result"
    }
   ],
   "source": [
    "l"
   ]
  },
  {
   "cell_type": "code",
   "execution_count": 223,
   "id": "1827ed3c-ab57-48b4-9bd6-146260c7424d",
   "metadata": {},
   "outputs": [],
   "source": [
    "l=a[(a<10)|(a>20)]"
   ]
  },
  {
   "cell_type": "code",
   "execution_count": 224,
   "id": "e9934d5c-9ba9-45fe-9795-7b51cc6549bb",
   "metadata": {},
   "outputs": [
    {
     "data": {
      "text/plain": [
       "array([1, 3, 5, 7])"
      ]
     },
     "execution_count": 224,
     "metadata": {},
     "output_type": "execute_result"
    }
   ],
   "source": [
    "l"
   ]
  },
  {
   "cell_type": "code",
   "execution_count": 225,
   "id": "3df529f8-2165-44b3-8e7f-2a7e9c7a0b51",
   "metadata": {},
   "outputs": [],
   "source": [
    "a=np.array([5,10,15,20,25])"
   ]
  },
  {
   "cell_type": "code",
   "execution_count": 226,
   "id": "a4accae1-e68a-4586-b54f-ac48bd2e5eef",
   "metadata": {},
   "outputs": [
    {
     "data": {
      "text/plain": [
       "array([ 5, 10, 15, 20, 25])"
      ]
     },
     "execution_count": 226,
     "metadata": {},
     "output_type": "execute_result"
    }
   ],
   "source": [
    "a"
   ]
  },
  {
   "cell_type": "code",
   "execution_count": 227,
   "id": "c50f6a4f-02c3-446f-a907-85462bbd256c",
   "metadata": {},
   "outputs": [],
   "source": [
    "l=a[(a<10)|(a>20)]"
   ]
  },
  {
   "cell_type": "code",
   "execution_count": 228,
   "id": "00f449c3-4da3-4744-9b0d-a65d7ee59a15",
   "metadata": {},
   "outputs": [
    {
     "data": {
      "text/plain": [
       "array([ 5, 25])"
      ]
     },
     "execution_count": 228,
     "metadata": {},
     "output_type": "execute_result"
    }
   ],
   "source": [
    "l"
   ]
  },
  {
   "cell_type": "code",
   "execution_count": 229,
   "id": "c1d0e131-5aaf-4b91-9563-cedadf41a592",
   "metadata": {},
   "outputs": [],
   "source": [
    "a[a>15]=999"
   ]
  },
  {
   "cell_type": "code",
   "execution_count": 230,
   "id": "9ea5f4fa-bcdc-4e12-acd1-972ec138c4dd",
   "metadata": {},
   "outputs": [
    {
     "data": {
      "text/plain": [
       "array([  5,  10,  15, 999, 999])"
      ]
     },
     "execution_count": 230,
     "metadata": {},
     "output_type": "execute_result"
    }
   ],
   "source": [
    "a"
   ]
  },
  {
   "cell_type": "code",
   "execution_count": 231,
   "id": "18ac314e-7251-4a04-9ec3-7d08d69f016a",
   "metadata": {},
   "outputs": [],
   "source": [
    "data = np.array([1, 2, np.nan, 4, 5])"
   ]
  },
  {
   "cell_type": "code",
   "execution_count": 232,
   "id": "7c1c5563-2808-4fa5-857f-0c574d7f6e44",
   "metadata": {},
   "outputs": [
    {
     "data": {
      "text/plain": [
       "array([ 1.,  2., nan,  4.,  5.])"
      ]
     },
     "execution_count": 232,
     "metadata": {},
     "output_type": "execute_result"
    }
   ],
   "source": [
    "data"
   ]
  },
  {
   "cell_type": "code",
   "execution_count": 233,
   "id": "5b563a6f-9ca9-432e-bc9d-2c0c3a8355c7",
   "metadata": {},
   "outputs": [
    {
     "data": {
      "text/plain": [
       "array([False, False,  True, False, False])"
      ]
     },
     "execution_count": 233,
     "metadata": {},
     "output_type": "execute_result"
    }
   ],
   "source": [
    "np.isnan(data)"
   ]
  },
  {
   "cell_type": "code",
   "execution_count": null,
   "id": "5b19127b-b18c-47ed-9dc2-8d59262a6e7d",
   "metadata": {},
   "outputs": [],
   "source": []
  }
 ],
 "metadata": {
  "kernelspec": {
   "display_name": "Python 3 (ipykernel)",
   "language": "python",
   "name": "python3"
  },
  "language_info": {
   "codemirror_mode": {
    "name": "ipython",
    "version": 3
   },
   "file_extension": ".py",
   "mimetype": "text/x-python",
   "name": "python",
   "nbconvert_exporter": "python",
   "pygments_lexer": "ipython3",
   "version": "3.12.7"
  }
 },
 "nbformat": 4,
 "nbformat_minor": 5
}
